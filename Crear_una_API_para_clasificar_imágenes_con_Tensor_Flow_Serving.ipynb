{
  "nbformat": 4,
  "nbformat_minor": 0,
  "metadata": {
    "colab": {
      "name": "Crear una API para clasificar imágenes con Tensor Flow Serving.ipynb",
      "provenance": [],
      "authorship_tag": "ABX9TyPqd225N+83llNNHdHmstvi",
      "include_colab_link": true
    },
    "kernelspec": {
      "name": "python3",
      "display_name": "Python 3"
    },
    "accelerator": "GPU"
  },
  "cells": [
    {
      "cell_type": "markdown",
      "metadata": {
        "id": "view-in-github",
        "colab_type": "text"
      },
      "source": [
        "<a href=\"https://colab.research.google.com/github/Moisito12/Tensorflow-2.0/blob/master/Crear_una_API_para_clasificar_im%C3%A1genes_con_Tensor_Flow_Serving.ipynb\" target=\"_parent\"><img src=\"https://colab.research.google.com/assets/colab-badge.svg\" alt=\"Open In Colab\"/></a>"
      ]
    },
    {
      "cell_type": "markdown",
      "metadata": {
        "id": "WmcALrf_6aYE",
        "colab_type": "text"
      },
      "source": [
        "**Paso 1: Instalar dependencias y configurar el proyecto en gpu**"
      ]
    },
    {
      "cell_type": "code",
      "metadata": {
        "id": "oC7bOJ_Q6nVz",
        "colab_type": "code",
        "outputId": "3a6f2516-cc35-4743-f08d-1b11c6c4de0b",
        "colab": {
          "base_uri": "https://localhost:8080/",
          "height": 104
        }
      },
      "source": [
        "!echo \"deb [arch=amd64] http://storage.googleapis.com/tensorflow-serving-apt stable tensorflow-model-server tensorflow-model-server-universal\" | sudo tee /etc/apt/sources.list.d/tensorflow-serving.list && curl https://storage.googleapis.com/tensorflow-serving-apt/tensorflow-serving.release.pub.gpg | sudo apt-key add -"
      ],
      "execution_count": 1,
      "outputs": [
        {
          "output_type": "stream",
          "text": [
            "deb [arch=amd64] http://storage.googleapis.com/tensorflow-serving-apt stable tensorflow-model-server tensorflow-model-server-universal\n",
            "  % Total    % Received % Xferd  Average Speed   Time    Time     Time  Current\n",
            "                                 Dload  Upload   Total   Spent    Left  Speed\n",
            "\r  0     0    0     0    0     0      0      0 --:--:-- --:--:-- --:--:--     0\r100  2943  100  2943    0     0  43279      0 --:--:-- --:--:-- --:--:-- 43279\n",
            "OK\n"
          ],
          "name": "stdout"
        }
      ]
    },
    {
      "cell_type": "code",
      "metadata": {
        "id": "amX1ggO765e-",
        "colab_type": "code",
        "outputId": "4e743dd3-db3c-4c7e-c4c9-96f339abc7e6",
        "colab": {
          "base_uri": "https://localhost:8080/",
          "height": 662
        }
      },
      "source": [
        "!pip install tensorflow-gpu==1.13.1"
      ],
      "execution_count": 3,
      "outputs": [
        {
          "output_type": "stream",
          "text": [
            "Collecting tensorflow-gpu==1.13.1\n",
            "\u001b[?25l  Downloading https://files.pythonhosted.org/packages/7b/b1/0ad4ae02e17ddd62109cd54c291e311c4b5fd09b4d0678d3d6ce4159b0f0/tensorflow_gpu-1.13.1-cp36-cp36m-manylinux1_x86_64.whl (345.2MB)\n",
            "\u001b[K     |████████████████████████████████| 345.2MB 49kB/s \n",
            "\u001b[?25hRequirement already satisfied: termcolor>=1.1.0 in /usr/local/lib/python3.6/dist-packages (from tensorflow-gpu==1.13.1) (1.1.0)\n",
            "Requirement already satisfied: gast>=0.2.0 in /usr/local/lib/python3.6/dist-packages (from tensorflow-gpu==1.13.1) (0.2.2)\n",
            "Collecting tensorboard<1.14.0,>=1.13.0\n",
            "\u001b[?25l  Downloading https://files.pythonhosted.org/packages/0f/39/bdd75b08a6fba41f098b6cb091b9e8c7a80e1b4d679a581a0ccd17b10373/tensorboard-1.13.1-py3-none-any.whl (3.2MB)\n",
            "\u001b[K     |████████████████████████████████| 3.2MB 36.8MB/s \n",
            "\u001b[?25hRequirement already satisfied: six>=1.10.0 in /usr/local/lib/python3.6/dist-packages (from tensorflow-gpu==1.13.1) (1.12.0)\n",
            "Requirement already satisfied: wheel>=0.26 in /usr/local/lib/python3.6/dist-packages (from tensorflow-gpu==1.13.1) (0.33.6)\n",
            "Requirement already satisfied: protobuf>=3.6.1 in /usr/local/lib/python3.6/dist-packages (from tensorflow-gpu==1.13.1) (3.10.0)\n",
            "Requirement already satisfied: keras-preprocessing>=1.0.5 in /usr/local/lib/python3.6/dist-packages (from tensorflow-gpu==1.13.1) (1.1.0)\n",
            "Collecting tensorflow-estimator<1.14.0rc0,>=1.13.0\n",
            "\u001b[?25l  Downloading https://files.pythonhosted.org/packages/bb/48/13f49fc3fa0fdf916aa1419013bb8f2ad09674c275b4046d5ee669a46873/tensorflow_estimator-1.13.0-py2.py3-none-any.whl (367kB)\n",
            "\u001b[K     |████████████████████████████████| 368kB 59.4MB/s \n",
            "\u001b[?25hRequirement already satisfied: absl-py>=0.1.6 in /usr/local/lib/python3.6/dist-packages (from tensorflow-gpu==1.13.1) (0.9.0)\n",
            "Requirement already satisfied: astor>=0.6.0 in /usr/local/lib/python3.6/dist-packages (from tensorflow-gpu==1.13.1) (0.8.1)\n",
            "Requirement already satisfied: grpcio>=1.8.6 in /usr/local/lib/python3.6/dist-packages (from tensorflow-gpu==1.13.1) (1.15.0)\n",
            "Requirement already satisfied: keras-applications>=1.0.6 in /usr/local/lib/python3.6/dist-packages (from tensorflow-gpu==1.13.1) (1.0.8)\n",
            "Requirement already satisfied: numpy>=1.13.3 in /usr/local/lib/python3.6/dist-packages (from tensorflow-gpu==1.13.1) (1.17.5)\n",
            "Requirement already satisfied: werkzeug>=0.11.15 in /usr/local/lib/python3.6/dist-packages (from tensorboard<1.14.0,>=1.13.0->tensorflow-gpu==1.13.1) (0.16.0)\n",
            "Requirement already satisfied: markdown>=2.6.8 in /usr/local/lib/python3.6/dist-packages (from tensorboard<1.14.0,>=1.13.0->tensorflow-gpu==1.13.1) (3.1.1)\n",
            "Requirement already satisfied: setuptools in /usr/local/lib/python3.6/dist-packages (from protobuf>=3.6.1->tensorflow-gpu==1.13.1) (42.0.2)\n",
            "Collecting mock>=2.0.0\n",
            "  Downloading https://files.pythonhosted.org/packages/05/d2/f94e68be6b17f46d2c353564da56e6fb89ef09faeeff3313a046cb810ca9/mock-3.0.5-py2.py3-none-any.whl\n",
            "Requirement already satisfied: h5py in /usr/local/lib/python3.6/dist-packages (from keras-applications>=1.0.6->tensorflow-gpu==1.13.1) (2.8.0)\n",
            "\u001b[31mERROR: tensorflow 1.15.0 has requirement tensorboard<1.16.0,>=1.15.0, but you'll have tensorboard 1.13.1 which is incompatible.\u001b[0m\n",
            "\u001b[31mERROR: tensorflow 1.15.0 has requirement tensorflow-estimator==1.15.1, but you'll have tensorflow-estimator 1.13.0 which is incompatible.\u001b[0m\n",
            "Installing collected packages: tensorboard, mock, tensorflow-estimator, tensorflow-gpu\n",
            "  Found existing installation: tensorboard 1.15.0\n",
            "    Uninstalling tensorboard-1.15.0:\n",
            "      Successfully uninstalled tensorboard-1.15.0\n",
            "  Found existing installation: tensorflow-estimator 1.15.1\n",
            "    Uninstalling tensorflow-estimator-1.15.1:\n",
            "      Successfully uninstalled tensorflow-estimator-1.15.1\n",
            "Successfully installed mock-3.0.5 tensorboard-1.13.1 tensorflow-estimator-1.13.0 tensorflow-gpu-1.13.1\n"
          ],
          "name": "stdout"
        }
      ]
    },
    {
      "cell_type": "code",
      "metadata": {
        "id": "A8IERKqW6tXU",
        "colab_type": "code",
        "outputId": "6603c4aa-1184-45d9-b58e-17e22b771639",
        "colab": {
          "base_uri": "https://localhost:8080/",
          "height": 555
        }
      },
      "source": [
        "!apt-get update & apt-get install tensorflow-model-server"
      ],
      "execution_count": 29,
      "outputs": [
        {
          "output_type": "stream",
          "text": [
            "\rReading package lists... 0%\r\r0% [Working]\rReading package lists... 0%\r\r            \rHit:1 http://storage.googleapis.com/tensorflow-serving-apt stable InRelease\n",
            "\r0% [Connecting to archive.ubuntu.com] [Connecting to security.ubuntu.com (91.18\r0% [1 InRelease gpgv 3,012 B] [Connecting to archive.ubuntu.com (91.189.88.173)\rReading package lists... 0%\r\r                                                                               \rHit:2 https://cloud.r-project.org/bin/linux/ubuntu bionic-cran35/ InRelease\n",
            "\r0% [1 InRelease gpgv 3,012 B] [Connecting to archive.ubuntu.com (91.189.88.173)\rReading package lists... 7%\r\rReading package lists... 7%\r\r                                                                               \rIgn:3 https://developer.download.nvidia.com/compute/cuda/repos/ubuntu1804/x86_64  InRelease\n",
            "\r0% [1 InRelease gpgv 3,012 B] [Waiting for headers] [Waiting for headers] [Wait\rReading package lists... 7%\r\rReading package lists... 7%\r\r                                                                               \rHit:4 http://security.ubuntu.com/ubuntu bionic-security InRelease\n",
            "\r0% [1 InRelease gpgv 3,012 B] [Waiting for headers] [Waiting for headers] [Wait\r                                                                               \rHit:5 http://ppa.launchpad.net/graphics-drivers/ppa/ubuntu bionic InRelease\n",
            "\r0% [1 InRelease gpgv 3,012 B] [Waiting for headers] [Waiting for headers] [Conn\r                                                                               \rIgn:6 https://developer.download.nvidia.com/compute/machine-learning/repos/ubuntu1804/x86_64  InRelease\n",
            "\r0% [1 InRelease gpgv 3,012 B] [Waiting for headers] [Connecting to ppa.launchpa\r                                                                               \rHit:7 https://developer.download.nvidia.com/compute/cuda/repos/ubuntu1804/x86_64  Release\n",
            "\r0% [1 InRelease gpgv 3,012 B] [Waiting for headers] [Connecting to ppa.launchpa\r                                                                               \rHit:8 https://developer.download.nvidia.com/compute/machine-learning/repos/ubuntu1804/x86_64  Release\n",
            "Hit:9 http://archive.ubuntu.com/ubuntu bionic InRelease\n",
            "Hit:10 http://archive.ubuntu.com/ubuntu bionic-updates InRelease\n",
            "Hit:11 http://ppa.launchpad.net/marutter/c2d4u3.5/ubuntu bionic InRelease\n",
            "Hit:12 http://archive.ubuntu.com/ubuntu bionic-backports InRelease\n",
            "Reading package lists... Done\n",
            "Building dependency tree       \n",
            "Reading state information... Done\n",
            "0% [11 InRelease gpgv 15.4 kB]The following package was automatically installed and is no longer required:\n",
            "  libnvidia-common-430\n",
            "Use 'apt autoremove' to remove it.\n",
            "The following NEW packages will be installed:\n",
            "  tensorflow-model-server\n",
            "0 upgraded, 1 newly installed, 0 to remove and 81 not upgraded.\n",
            "Need to get 175 MB of archives.\n",
            "After this operation, 0 B of additional disk space will be used.\n",
            "Get:1 http://storage.googleapis.com/tensorflow-serving-apt stable/tensorflow-model-server amd64 tensorflow-model-server all 2.1.0 [175 MB]\n",
            "Reading package lists... Done\n",
            "Fetched 175 MB in 3s (58.3 MB/s)\n",
            "Selecting previously unselected package tensorflow-model-server.\n",
            "(Reading database ... 145674 files and directories currently installed.)\n",
            "Preparing to unpack .../tensorflow-model-server_2.1.0_all.deb ...\n",
            "Unpacking tensorflow-model-server (2.1.0) ...\n",
            "Setting up tensorflow-model-server (2.1.0) ...\n"
          ],
          "name": "stdout"
        }
      ]
    },
    {
      "cell_type": "code",
      "metadata": {
        "id": "4PtccZLM7N9L",
        "colab_type": "code",
        "outputId": "8cee7d0b-880d-446d-accc-6fd27c149405",
        "colab": {
          "base_uri": "https://localhost:8080/",
          "height": 104
        }
      },
      "source": [
        "!pip install requests"
      ],
      "execution_count": 30,
      "outputs": [
        {
          "output_type": "stream",
          "text": [
            "Requirement already satisfied: requests in /usr/local/lib/python3.6/dist-packages (2.21.0)\n",
            "Requirement already satisfied: urllib3<1.25,>=1.21.1 in /usr/local/lib/python3.6/dist-packages (from requests) (1.24.3)\n",
            "Requirement already satisfied: certifi>=2017.4.17 in /usr/local/lib/python3.6/dist-packages (from requests) (2019.11.28)\n",
            "Requirement already satisfied: idna<2.9,>=2.5 in /usr/local/lib/python3.6/dist-packages (from requests) (2.8)\n",
            "Requirement already satisfied: chardet<3.1.0,>=3.0.2 in /usr/local/lib/python3.6/dist-packages (from requests) (3.0.4)\n"
          ],
          "name": "stdout"
        }
      ]
    },
    {
      "cell_type": "markdown",
      "metadata": {
        "id": "vhi1GLJx7V-n",
        "colab_type": "text"
      },
      "source": [
        "**Paso 2:** Importar las librerías del proyecto"
      ]
    },
    {
      "cell_type": "code",
      "metadata": {
        "id": "4WtvBboA7dYd",
        "colab_type": "code",
        "outputId": "2a432b57-fabf-4456-c7f2-e597b982242f",
        "colab": {
          "base_uri": "https://localhost:8080/",
          "height": 34
        }
      },
      "source": [
        "import os\n",
        "import json\n",
        "import random\n",
        "import requests\n",
        "import subprocess\n",
        "import numpy as np\n",
        "import tensorflow as tf\n",
        "import matplotlib.pyplot as plt\n",
        "\n",
        "from tensorflow.keras.datasets import cifar10\n",
        "%matplotlib inline\n",
        "tf.__version__"
      ],
      "execution_count": 31,
      "outputs": [
        {
          "output_type": "execute_result",
          "data": {
            "text/plain": [
              "'1.13.1'"
            ]
          },
          "metadata": {
            "tags": []
          },
          "execution_count": 31
        }
      ]
    },
    {
      "cell_type": "markdown",
      "metadata": {
        "id": "BGxh7x-v8H_7",
        "colab_type": "text"
      },
      "source": [
        "**Paso 3:** Preprocesar los datos"
      ]
    },
    {
      "cell_type": "markdown",
      "metadata": {
        "id": "iBz1aCyg8N9R",
        "colab_type": "text"
      },
      "source": [
        "**Cargar el dataset**"
      ]
    },
    {
      "cell_type": "code",
      "metadata": {
        "id": "CbgLUwk_8RDS",
        "colab_type": "code",
        "colab": {}
      },
      "source": [
        "# carga los datos y genera dos tuplas una para el entrenamiento y otro para el testeo\n",
        "(X_train, y_train), (X_test, y_test) = cifar10.load_data()"
      ],
      "execution_count": 0,
      "outputs": []
    },
    {
      "cell_type": "code",
      "metadata": {
        "id": "rgrxQCha8i6Y",
        "colab_type": "code",
        "colab": {}
      },
      "source": [
        "class_names = ['avion', 'coche','pájaro', 'gato', 'ciervo','perro','rana','caballo','barco','camión']"
      ],
      "execution_count": 0,
      "outputs": []
    },
    {
      "cell_type": "markdown",
      "metadata": {
        "id": "pLhhCN1B8xLn",
        "colab_type": "text"
      },
      "source": [
        "**Normalización de las imágenes**"
      ]
    },
    {
      "cell_type": "code",
      "metadata": {
        "id": "3bnnASxN80-p",
        "colab_type": "code",
        "colab": {}
      },
      "source": [
        "X_train = X_train  / 255.0\n",
        "X_test = X_test/ 255.0"
      ],
      "execution_count": 0,
      "outputs": []
    },
    {
      "cell_type": "code",
      "metadata": {
        "id": "6H2dnvEB9Kaw",
        "colab_type": "code",
        "outputId": "11d9af19-4c8f-4857-b8e3-48bd11541aed",
        "colab": {
          "base_uri": "https://localhost:8080/",
          "height": 34
        }
      },
      "source": [
        "X_train.shape"
      ],
      "execution_count": 35,
      "outputs": [
        {
          "output_type": "execute_result",
          "data": {
            "text/plain": [
              "(50000, 32, 32, 3)"
            ]
          },
          "metadata": {
            "tags": []
          },
          "execution_count": 35
        }
      ]
    },
    {
      "cell_type": "markdown",
      "metadata": {
        "id": "2mJ2CRP89b0S",
        "colab_type": "text"
      },
      "source": [
        "**Paso 4:** Definir el modelo\n",
        "\n",
        "Nota: Se va a realizar el uso de la red ya realizada en la red neuronal convolucional"
      ]
    },
    {
      "cell_type": "code",
      "metadata": {
        "id": "9pjNLhcS9llV",
        "colab_type": "code",
        "colab": {}
      },
      "source": [
        "model = tf.keras.models.Sequential()\n",
        "model.add(tf.keras.layers.Conv2D(filters=32, kernel_size=3, padding=\"same\", activation=\"relu\", input_shape=[32,32,3]))\n",
        "model.add(tf.keras.layers.Conv2D(filters=32, kernel_size=3, padding=\"same\", activation=\"relu\"))\n",
        "model.add(tf.keras.layers.MaxPool2D(pool_size=2, strides=2, padding=\"valid\"))\n",
        "model.add(tf.keras.layers.Conv2D(filters=64, kernel_size=3, padding=\"same\", activation=\"relu\"))\n",
        "model.add(tf.keras.layers.Conv2D(filters=64, kernel_size=3, padding=\"same\", activation=\"relu\"))\n",
        "model.add(tf.keras.layers.MaxPool2D(pool_size=2, strides=2, padding=\"valid\"))\n",
        "model.add(tf.keras.layers.Flatten())\n",
        "model.add(tf.keras.layers.Dense(units=128, activation='relu'))\n",
        "model.add(tf.keras.layers.Dense(units=10, activation='softmax'))"
      ],
      "execution_count": 0,
      "outputs": []
    },
    {
      "cell_type": "markdown",
      "metadata": {
        "id": "g9tm74sX_g4D",
        "colab_type": "text"
      },
      "source": [
        "**Compilar el modelo**"
      ]
    },
    {
      "cell_type": "code",
      "metadata": {
        "id": "74UqHw9y_jkZ",
        "colab_type": "code",
        "colab": {}
      },
      "source": [
        "model.compile(\n",
        "    optimizer='Adam',\n",
        "    loss='sparse_categorical_crossentropy',\n",
        "    metrics=['sparse_categorical_accuracy']\n",
        ")"
      ],
      "execution_count": 0,
      "outputs": []
    },
    {
      "cell_type": "markdown",
      "metadata": {
        "id": "fPmsPYbM_-9c",
        "colab_type": "text"
      },
      "source": [
        "**Entrenar el modelo**"
      ]
    },
    {
      "cell_type": "code",
      "metadata": {
        "id": "FWXNAzcfAC5D",
        "colab_type": "code",
        "outputId": "62f8b282-8639-47e4-9934-7abdfdfbc124",
        "colab": {
          "base_uri": "https://localhost:8080/",
          "height": 382
        }
      },
      "source": [
        "model.fit(\n",
        "    X_train,\n",
        "    y_train,\n",
        "    batch_size=128,\n",
        "    epochs=10\n",
        ")"
      ],
      "execution_count": 38,
      "outputs": [
        {
          "output_type": "stream",
          "text": [
            "Epoch 1/10\n",
            "50000/50000 [==============================] - 5s 105us/sample - loss: 1.5124 - sparse_categorical_accuracy: 0.4474\n",
            "Epoch 2/10\n",
            "50000/50000 [==============================] - 5s 99us/sample - loss: 1.0493 - sparse_categorical_accuracy: 0.6284\n",
            "Epoch 3/10\n",
            "50000/50000 [==============================] - 5s 99us/sample - loss: 0.8639 - sparse_categorical_accuracy: 0.6987\n",
            "Epoch 4/10\n",
            "50000/50000 [==============================] - 5s 100us/sample - loss: 0.7416 - sparse_categorical_accuracy: 0.7396\n",
            "Epoch 5/10\n",
            "50000/50000 [==============================] - 5s 101us/sample - loss: 0.6417 - sparse_categorical_accuracy: 0.7761\n",
            "Epoch 6/10\n",
            "50000/50000 [==============================] - 5s 100us/sample - loss: 0.5614 - sparse_categorical_accuracy: 0.8039\n",
            "Epoch 7/10\n",
            "50000/50000 [==============================] - 5s 101us/sample - loss: 0.4814 - sparse_categorical_accuracy: 0.8308\n",
            "Epoch 8/10\n",
            "50000/50000 [==============================] - 5s 101us/sample - loss: 0.4082 - sparse_categorical_accuracy: 0.8570\n",
            "Epoch 9/10\n",
            "50000/50000 [==============================] - 5s 101us/sample - loss: 0.3415 - sparse_categorical_accuracy: 0.8788\n",
            "Epoch 10/10\n",
            "50000/50000 [==============================] - 5s 101us/sample - loss: 0.2782 - sparse_categorical_accuracy: 0.9023\n"
          ],
          "name": "stdout"
        },
        {
          "output_type": "execute_result",
          "data": {
            "text/plain": [
              "<tensorflow.python.keras.callbacks.History at 0x7fe570428518>"
            ]
          },
          "metadata": {
            "tags": []
          },
          "execution_count": 38
        }
      ]
    },
    {
      "cell_type": "markdown",
      "metadata": {
        "id": "ZDKdWGXSAygm",
        "colab_type": "text"
      },
      "source": [
        "**Evaluar el modelo**"
      ]
    },
    {
      "cell_type": "code",
      "metadata": {
        "id": "IQKJj44dA2Kh",
        "colab_type": "code",
        "outputId": "bab13990-9597-47b8-f746-82be52f8d70d",
        "colab": {
          "base_uri": "https://localhost:8080/",
          "height": 34
        }
      },
      "source": [
        "test_loss, test_accuracy = model.evaluate(X_test, y_test)"
      ],
      "execution_count": 39,
      "outputs": [
        {
          "output_type": "stream",
          "text": [
            "10000/10000 [==============================] - 1s 110us/sample - loss: 0.8714 - sparse_categorical_accuracy: 0.7483\n"
          ],
          "name": "stdout"
        }
      ]
    },
    {
      "cell_type": "code",
      "metadata": {
        "id": "SmvHu8o9BnbJ",
        "colab_type": "code",
        "outputId": "1e4d1f5b-cdbe-4d69-9ba0-9536f932fda5",
        "colab": {
          "base_uri": "https://localhost:8080/",
          "height": 34
        }
      },
      "source": [
        "print(\"La precisión del model es: {}\".format(test_accuracy*100.0))"
      ],
      "execution_count": 40,
      "outputs": [
        {
          "output_type": "stream",
          "text": [
            "La precisión del model es: 74.83000159263611\n"
          ],
          "name": "stdout"
        }
      ]
    },
    {
      "cell_type": "markdown",
      "metadata": {
        "id": "CgRQ5WFlCNgE",
        "colab_type": "text"
      },
      "source": [
        "**Paso 5:** Guardar el modelo para subir a producción"
      ]
    },
    {
      "cell_type": "markdown",
      "metadata": {
        "id": "i66F_C-OCUm3",
        "colab_type": "text"
      },
      "source": [
        "**Crear un directorio para el modelo**"
      ]
    },
    {
      "cell_type": "code",
      "metadata": {
        "id": "tANWL7DlCZzF",
        "colab_type": "code",
        "colab": {}
      },
      "source": [
        "MODEL_DIR = \"model/\"\n",
        "version = 1"
      ],
      "execution_count": 0,
      "outputs": []
    },
    {
      "cell_type": "code",
      "metadata": {
        "id": "MQnFKzy3CwWK",
        "colab_type": "code",
        "outputId": "ed8d0685-b5b4-436d-eb1d-4c56e9f9ec4c",
        "colab": {
          "base_uri": "https://localhost:8080/",
          "height": 34
        }
      },
      "source": [
        "export_path = os.path.join(MODEL_DIR, str(version))\n",
        "export_path"
      ],
      "execution_count": 42,
      "outputs": [
        {
          "output_type": "execute_result",
          "data": {
            "text/plain": [
              "'model/1'"
            ]
          },
          "metadata": {
            "tags": []
          },
          "execution_count": 42
        }
      ]
    },
    {
      "cell_type": "code",
      "metadata": {
        "id": "iCuh0eyRC_XO",
        "colab_type": "code",
        "colab": {}
      },
      "source": [
        "if os.path.isdir(export_path):\n",
        "  !rm -r {export_path}"
      ],
      "execution_count": 0,
      "outputs": []
    },
    {
      "cell_type": "markdown",
      "metadata": {
        "id": "9L-lKoo7DJ13",
        "colab_type": "text"
      },
      "source": [
        "**Guardar el modelo de Tensor Flow Serving**"
      ]
    },
    {
      "cell_type": "code",
      "metadata": {
        "id": "qJ5TSndgDPcd",
        "colab_type": "code",
        "outputId": "093f33b0-109a-463e-e337-f8935ec1868b",
        "colab": {
          "base_uri": "https://localhost:8080/",
          "height": 69
        }
      },
      "source": [
        "tf.saved_model.simple_save(tf.keras.backend.get_session(), export_dir=export_path, inputs={\"input_image\":model.input}, outputs={t.name:t for t in model.outputs})"
      ],
      "execution_count": 44,
      "outputs": [
        {
          "output_type": "stream",
          "text": [
            "INFO:tensorflow:Assets added to graph.\n",
            "INFO:tensorflow:No assets to write.\n",
            "INFO:tensorflow:SavedModel written to: model/1/saved_model.pb\n"
          ],
          "name": "stdout"
        }
      ]
    },
    {
      "cell_type": "markdown",
      "metadata": {
        "id": "4PrPKpgKD2p6",
        "colab_type": "text"
      },
      "source": [
        "**Paso 6:** Configurar el entorno de producción"
      ]
    },
    {
      "cell_type": "markdown",
      "metadata": {
        "id": "FySmpRtUEE1I",
        "colab_type": "text"
      },
      "source": [
        "Exportar el MODEL_DIR a las variables de entorno"
      ]
    },
    {
      "cell_type": "code",
      "metadata": {
        "id": "hiQiaSJlEG8C",
        "colab_type": "code",
        "colab": {}
      },
      "source": [
        "os.environ['MODEL_DIR'] = os.path.abspath(MODEL_DIR)"
      ],
      "execution_count": 0,
      "outputs": []
    },
    {
      "cell_type": "markdown",
      "metadata": {
        "id": "HkAzTpF6EPq_",
        "colab_type": "text"
      },
      "source": [
        "**Ejecutar la API Rest de Tensorflow Serving**"
      ]
    },
    {
      "cell_type": "code",
      "metadata": {
        "id": "hL8H20D3EU_3",
        "colab_type": "code",
        "outputId": "bbdb2e04-7a0d-40c2-f355-01c890e377dd",
        "colab": {
          "base_uri": "https://localhost:8080/",
          "height": 34
        }
      },
      "source": [
        "%%bash --bg\n",
        "nohup tensorflow_model_server --rest_api_port=8000 --model_name=cifar10 --model_base_path=\"${MODEL_DIR}\" >server.log 2>&1"
      ],
      "execution_count": 46,
      "outputs": [
        {
          "output_type": "stream",
          "text": [
            "Starting job # 3 in a separate thread.\n"
          ],
          "name": "stdout"
        }
      ]
    },
    {
      "cell_type": "code",
      "metadata": {
        "id": "7agxwJ8RE6Nj",
        "colab_type": "code",
        "outputId": "d62f07b9-bcb4-4bb3-8ad0-53ff167fb6bf",
        "colab": {
          "base_uri": "https://localhost:8080/",
          "height": 211
        }
      },
      "source": [
        "!tail   server.log"
      ],
      "execution_count": 47,
      "outputs": [
        {
          "output_type": "stream",
          "text": [
            "2020-01-29 00:40:35.368646: I external/org_tensorflow/tensorflow/cc/saved_model/loader.cc:264] Reading SavedModel debug info (if present) from: /content/model/1\n",
            "2020-01-29 00:40:35.368727: I external/org_tensorflow/tensorflow/core/platform/cpu_feature_guard.cc:142] Your CPU supports instructions that this TensorFlow binary was not compiled to use: AVX2 FMA\n",
            "2020-01-29 00:40:35.399295: I external/org_tensorflow/tensorflow/cc/saved_model/loader.cc:203] Restoring SavedModel bundle.\n",
            "2020-01-29 00:40:35.461879: I external/org_tensorflow/tensorflow/cc/saved_model/loader.cc:333] SavedModel load for tags { serve }; Status: success: OK. Took 100218 microseconds.\n",
            "2020-01-29 00:40:35.464178: I tensorflow_serving/servables/tensorflow/saved_model_warmup.cc:105] No warmup data file found at /content/model/1/assets.extra/tf_serving_warmup_requests\n",
            "2020-01-29 00:40:35.464267: I tensorflow_serving/core/loader_harness.cc:87] Successfully loaded servable version {name: cifar10 version: 1}\n",
            "2020-01-29 00:40:35.465666: I tensorflow_serving/model_servers/server.cc:358] Running gRPC ModelServer at 0.0.0.0:8500 ...\n",
            "[warn] getaddrinfo: address family for nodename not supported\n",
            "2020-01-29 00:40:35.466326: I tensorflow_serving/model_servers/server.cc:378] Exporting HTTP/REST API at:localhost:8000 ...\n",
            "[evhttp_server.cc : 238] NET_LOG: Entering the event loop ...\n"
          ],
          "name": "stdout"
        }
      ]
    },
    {
      "cell_type": "markdown",
      "metadata": {
        "id": "Z6Q0hv6QGj4i",
        "colab_type": "text"
      },
      "source": [
        "**Paso 7:** Crear nuestra primeria petición por POST"
      ]
    },
    {
      "cell_type": "code",
      "metadata": {
        "id": "gancXP9vGplK",
        "colab_type": "code",
        "outputId": "c4a4f083-585b-401e-ce91-61e14177d027",
        "colab": {
          "base_uri": "https://localhost:8080/",
          "height": 34
        }
      },
      "source": [
        "random_image = np.random.randint(0, len(X_test))\n",
        "random_image"
      ],
      "execution_count": 48,
      "outputs": [
        {
          "output_type": "execute_result",
          "data": {
            "text/plain": [
              "5310"
            ]
          },
          "metadata": {
            "tags": []
          },
          "execution_count": 48
        }
      ]
    },
    {
      "cell_type": "markdown",
      "metadata": {
        "id": "V97lzCraHDhC",
        "colab_type": "text"
      },
      "source": [
        "**Crear el objeto de datos en json**"
      ]
    },
    {
      "cell_type": "code",
      "metadata": {
        "id": "sgjKbzp5HIXI",
        "colab_type": "code",
        "colab": {}
      },
      "source": [
        "data = json.dumps({\"signature_name\":\"serving_default\", \"instances\":[X_test[random_image].tolist()]})"
      ],
      "execution_count": 0,
      "outputs": []
    },
    {
      "cell_type": "code",
      "metadata": {
        "id": "RTeIoJswHgBW",
        "colab_type": "code",
        "outputId": "4c47e4b0-34c4-40d9-f672-10140387aac2",
        "colab": {
          "base_uri": "https://localhost:8080/",
          "height": 54
        }
      },
      "source": [
        "data"
      ],
      "execution_count": 50,
      "outputs": [
        {
          "output_type": "execute_result",
          "data": {
            "text/plain": [
              "'{\"signature_name\": \"serving_default\", \"instances\": [[[[0.38823529411764707, 0.47058823529411764, 0.4], [0.3803921568627451, 0.4627450980392157, 0.39215686274509803], [0.3803921568627451, 0.4627450980392157, 0.39215686274509803], [0.39215686274509803, 0.4745098039215686, 0.403921568627451], [0.4, 0.4823529411764706, 0.4117647058823529], [0.3843137254901961, 0.4666666666666667, 0.4117647058823529], [0.3803921568627451, 0.4627450980392157, 0.4196078431372549], [0.4117647058823529, 0.48627450980392156, 0.4470588235294118], [0.4235294117647059, 0.48627450980392156, 0.43529411764705883], [0.39215686274509803, 0.4549019607843137, 0.40784313725490196], [0.4117647058823529, 0.4745098039215686, 0.42745098039215684], [0.4, 0.4627450980392157, 0.41568627450980394], [0.38823529411764707, 0.45098039215686275, 0.403921568627451], [0.4, 0.4627450980392157, 0.41568627450980394], [0.403921568627451, 0.4666666666666667, 0.41568627450980394], [0.403921568627451, 0.4627450980392157, 0.4196078431372549], [0.42745098039215684, 0.4745098039215686, 0.44313725490196076], [0.42745098039215684, 0.47058823529411764, 0.44313725490196076], [0.4196078431372549, 0.4627450980392157, 0.43529411764705883], [0.43137254901960786, 0.4745098039215686, 0.4470588235294118], [0.403921568627451, 0.4470588235294118, 0.42745098039215684], [0.42745098039215684, 0.47058823529411764, 0.4549019607843137], [0.4549019607843137, 0.4980392156862745, 0.4823529411764706], [0.45098039215686275, 0.49411764705882355, 0.47843137254901963], [0.4666666666666667, 0.5058823529411764, 0.4980392156862745], [0.48627450980392156, 0.5254901960784314, 0.5254901960784314], [0.4588235294117647, 0.4980392156862745, 0.4980392156862745], [0.45098039215686275, 0.49019607843137253, 0.49019607843137253], [0.47058823529411764, 0.5098039215686274, 0.5098039215686274], [0.4549019607843137, 0.49411764705882355, 0.49411764705882355], [0.4470588235294118, 0.48627450980392156, 0.48627450980392156], [0.4627450980392157, 0.5019607843137255, 0.5019607843137255]], [[0.396078431372549, 0.47843137254901963, 0.41568627450980394], [0.37254901960784315, 0.4549019607843137, 0.396078431372549], [0.37254901960784315, 0.4549019607843137, 0.396078431372549], [0.3803921568627451, 0.4627450980392157, 0.39215686274509803], [0.396078431372549, 0.47843137254901963, 0.40784313725490196], [0.4117647058823529, 0.49019607843137253, 0.43529411764705883], [0.38823529411764707, 0.4666666666666667, 0.42745098039215684], [0.4, 0.47058823529411764, 0.43529411764705883], [0.4117647058823529, 0.47058823529411764, 0.43137254901960786], [0.396078431372549, 0.4588235294117647, 0.4196078431372549], [0.403921568627451, 0.4666666666666667, 0.42745098039215684], [0.38823529411764707, 0.45098039215686275, 0.4117647058823529], [0.3843137254901961, 0.4470588235294118, 0.40784313725490196], [0.4196078431372549, 0.4823529411764706, 0.44313725490196076], [0.4117647058823529, 0.4745098039215686, 0.43529411764705883], [0.40784313725490196, 0.4666666666666667, 0.43137254901960786], [0.42745098039215684, 0.4745098039215686, 0.45098039215686275], [0.43137254901960786, 0.4745098039215686, 0.4588235294117647], [0.44313725490196076, 0.48627450980392156, 0.47058823529411764], [0.4549019607843137, 0.4980392156862745, 0.4823529411764706], [0.43137254901960786, 0.4745098039215686, 0.4549019607843137], [0.43137254901960786, 0.4745098039215686, 0.4588235294117647], [0.4392156862745098, 0.4823529411764706, 0.4666666666666667], [0.4392156862745098, 0.4823529411764706, 0.4666666666666667], [0.42745098039215684, 0.47058823529411764, 0.4549019607843137], [0.4549019607843137, 0.49411764705882355, 0.4823529411764706], [0.4588235294117647, 0.4980392156862745, 0.48627450980392156], [0.43529411764705883, 0.47843137254901963, 0.4666666666666667], [0.42745098039215684, 0.4666666666666667, 0.4549019607843137], [0.43529411764705883, 0.47843137254901963, 0.4666666666666667], [0.4235294117647059, 0.4666666666666667, 0.4549019607843137], [0.43529411764705883, 0.47843137254901963, 0.4666666666666667]], [[0.38823529411764707, 0.4666666666666667, 0.4196078431372549], [0.3686274509803922, 0.4470588235294118, 0.4], [0.3686274509803922, 0.4470588235294118, 0.4], [0.3843137254901961, 0.4627450980392157, 0.4], [0.3843137254901961, 0.4666666666666667, 0.4], [0.3764705882352941, 0.4588235294117647, 0.403921568627451], [0.3843137254901961, 0.4627450980392157, 0.4235294117647059], [0.396078431372549, 0.4666666666666667, 0.43529411764705883], [0.4, 0.4588235294117647, 0.43137254901960786], [0.38823529411764707, 0.45098039215686275, 0.4235294117647059], [0.39215686274509803, 0.45098039215686275, 0.4235294117647059], [0.40784313725490196, 0.47058823529411764, 0.44313725490196076], [0.41568627450980394, 0.4745098039215686, 0.4470588235294118], [0.4117647058823529, 0.47058823529411764, 0.44313725490196076], [0.4235294117647059, 0.4823529411764706, 0.4588235294117647], [0.41568627450980394, 0.4745098039215686, 0.4470588235294118], [0.43529411764705883, 0.4823529411764706, 0.4666666666666667], [0.44313725490196076, 0.4823529411764706, 0.47058823529411764], [0.4666666666666667, 0.5098039215686274, 0.4980392156862745], [0.49411764705882355, 0.5372549019607843, 0.5254901960784314], [0.49411764705882355, 0.5372549019607843, 0.5215686274509804], [0.47058823529411764, 0.5137254901960784, 0.4980392156862745], [0.45098039215686275, 0.49411764705882355, 0.47843137254901963], [0.45098039215686275, 0.49411764705882355, 0.47843137254901963], [0.4470588235294118, 0.49019607843137253, 0.4745098039215686], [0.44313725490196076, 0.48627450980392156, 0.4666666666666667], [0.4588235294117647, 0.5019607843137255, 0.4823529411764706], [0.45098039215686275, 0.49411764705882355, 0.4745098039215686], [0.43137254901960786, 0.4745098039215686, 0.4549019607843137], [0.4549019607843137, 0.4980392156862745, 0.47843137254901963], [0.44313725490196076, 0.48627450980392156, 0.47058823529411764], [0.403921568627451, 0.4470588235294118, 0.42745098039215684]], [[0.38823529411764707, 0.4666666666666667, 0.42745098039215684], [0.3803921568627451, 0.4588235294117647, 0.4196078431372549], [0.37254901960784315, 0.45098039215686275, 0.41568627450980394], [0.38823529411764707, 0.47058823529411764, 0.40784313725490196], [0.3764705882352941, 0.4627450980392157, 0.38823529411764707], [0.3764705882352941, 0.4588235294117647, 0.403921568627451], [0.39215686274509803, 0.4745098039215686, 0.43137254901960786], [0.4117647058823529, 0.4823529411764706, 0.4549019607843137], [0.4, 0.4588235294117647, 0.4392156862745098], [0.403921568627451, 0.4627450980392157, 0.44313725490196076], [0.4117647058823529, 0.47058823529411764, 0.45098039215686275], [0.41568627450980394, 0.4745098039215686, 0.4549019607843137], [0.4392156862745098, 0.4980392156862745, 0.47843137254901963], [0.4470588235294118, 0.5058823529411764, 0.48627450980392156], [0.4627450980392157, 0.5215686274509804, 0.5019607843137255], [0.45098039215686275, 0.5098039215686274, 0.49411764705882355], [0.4549019607843137, 0.4980392156862745, 0.49411764705882355], [0.4745098039215686, 0.5137254901960784, 0.5176470588235295], [0.5137254901960784, 0.5529411764705883, 0.5529411764705883], [0.5098039215686274, 0.5450980392156862, 0.5490196078431373], [0.4823529411764706, 0.5215686274509804, 0.5137254901960784], [0.49019607843137253, 0.5333333333333333, 0.5137254901960784], [0.47058823529411764, 0.5137254901960784, 0.4980392156862745], [0.45098039215686275, 0.49411764705882355, 0.47843137254901963], [0.4470588235294118, 0.49019607843137253, 0.47058823529411764], [0.4196078431372549, 0.4627450980392157, 0.43529411764705883], [0.4, 0.44313725490196076, 0.4117647058823529], [0.4117647058823529, 0.4549019607843137, 0.42745098039215684], [0.4196078431372549, 0.4627450980392157, 0.43529411764705883], [0.4117647058823529, 0.4549019607843137, 0.4235294117647059], [0.4196078431372549, 0.4627450980392157, 0.43529411764705883], [0.41568627450980394, 0.4588235294117647, 0.43137254901960786]], [[0.3803921568627451, 0.4549019607843137, 0.4196078431372549], [0.37254901960784315, 0.4470588235294118, 0.4117647058823529], [0.3607843137254902, 0.43529411764705883, 0.4], [0.36470588235294116, 0.4392156862745098, 0.39215686274509803], [0.39215686274509803, 0.4666666666666667, 0.4117647058823529], [0.4117647058823529, 0.4823529411764706, 0.44313725490196076], [0.403921568627451, 0.47843137254901963, 0.4470588235294118], [0.4117647058823529, 0.4745098039215686, 0.4549019607843137], [0.4196078431372549, 0.47058823529411764, 0.4627450980392157], [0.4235294117647059, 0.4745098039215686, 0.4666666666666667], [0.4235294117647059, 0.47843137254901963, 0.47058823529411764], [0.4235294117647059, 0.47843137254901963, 0.4666666666666667], [0.4392156862745098, 0.49411764705882355, 0.4823529411764706], [0.47843137254901963, 0.5333333333333333, 0.5176470588235295], [0.4823529411764706, 0.5372549019607843, 0.5215686274509804], [0.4823529411764706, 0.5333333333333333, 0.5215686274509804], [0.47843137254901963, 0.5215686274509804, 0.5137254901960784], [0.47058823529411764, 0.5098039215686274, 0.5058823529411764], [0.4745098039215686, 0.5137254901960784, 0.5098039215686274], [0.49019607843137253, 0.5294117647058824, 0.5254901960784314], [0.47058823529411764, 0.5137254901960784, 0.5058823529411764], [0.45098039215686275, 0.4980392156862745, 0.49019607843137253], [0.4549019607843137, 0.49411764705882355, 0.48627450980392156], [0.4470588235294118, 0.48627450980392156, 0.47843137254901963], [0.4549019607843137, 0.49019607843137253, 0.47843137254901963], [0.44313725490196076, 0.4823529411764706, 0.4549019607843137], [0.42745098039215684, 0.4666666666666667, 0.4392156862745098], [0.4196078431372549, 0.4588235294117647, 0.43137254901960786], [0.39215686274509803, 0.43137254901960786, 0.40784313725490196], [0.40784313725490196, 0.45098039215686275, 0.4235294117647059], [0.42745098039215684, 0.47058823529411764, 0.44313725490196076], [0.4117647058823529, 0.4549019607843137, 0.42745098039215684]], [[0.3764705882352941, 0.4392156862745098, 0.4], [0.3764705882352941, 0.4392156862745098, 0.4], [0.3843137254901961, 0.4470588235294118, 0.40784313725490196], [0.3803921568627451, 0.4392156862745098, 0.4196078431372549], [0.4, 0.4588235294117647, 0.45098039215686275], [0.4392156862745098, 0.4980392156862745, 0.49019607843137253], [0.4392156862745098, 0.4980392156862745, 0.49411764705882355], [0.4117647058823529, 0.4627450980392157, 0.4627450980392157], [0.43529411764705883, 0.47843137254901963, 0.47843137254901963], [0.45098039215686275, 0.49019607843137253, 0.49411764705882355], [0.4666666666666667, 0.5058823529411764, 0.5098039215686274], [0.5254901960784314, 0.5647058823529412, 0.5647058823529412], [0.47843137254901963, 0.5215686274509804, 0.5098039215686274], [0.49019607843137253, 0.5372549019607843, 0.5215686274509804], [0.47843137254901963, 0.5215686274509804, 0.5058823529411764], [0.4823529411764706, 0.5294117647058824, 0.5137254901960784], [0.4745098039215686, 0.5137254901960784, 0.49019607843137253], [0.4627450980392157, 0.5058823529411764, 0.47843137254901963], [0.45098039215686275, 0.49411764705882355, 0.4666666666666667], [0.43529411764705883, 0.47843137254901963, 0.45098039215686275], [0.44313725490196076, 0.49411764705882355, 0.47058823529411764], [0.44313725490196076, 0.49019607843137253, 0.4745098039215686], [0.4392156862745098, 0.4745098039215686, 0.4745098039215686], [0.44313725490196076, 0.47058823529411764, 0.47843137254901963], [0.4588235294117647, 0.4823529411764706, 0.48627450980392156], [0.4745098039215686, 0.4980392156862745, 0.49019607843137253], [0.48627450980392156, 0.5098039215686274, 0.5019607843137255], [0.4549019607843137, 0.4823529411764706, 0.47058823529411764], [0.4235294117647059, 0.45098039215686275, 0.4392156862745098], [0.4117647058823529, 0.4549019607843137, 0.43529411764705883], [0.4235294117647059, 0.4666666666666667, 0.45098039215686275], [0.4196078431372549, 0.4627450980392157, 0.4470588235294118]], [[0.396078431372549, 0.4549019607843137, 0.42745098039215684], [0.4, 0.4588235294117647, 0.42745098039215684], [0.41568627450980394, 0.4745098039215686, 0.44313725490196076], [0.4117647058823529, 0.47058823529411764, 0.4588235294117647], [0.4549019607843137, 0.5098039215686274, 0.5137254901960784], [0.4823529411764706, 0.5372549019607843, 0.5372549019607843], [0.5294117647058824, 0.5843137254901961, 0.5843137254901961], [0.49019607843137253, 0.5372549019607843, 0.5372549019607843], [0.44313725490196076, 0.4823529411764706, 0.47843137254901963], [0.45098039215686275, 0.49411764705882355, 0.49019607843137253], [0.49411764705882355, 0.5333333333333333, 0.5333333333333333], [0.5137254901960784, 0.5529411764705883, 0.5490196078431373], [0.49019607843137253, 0.5294117647058824, 0.5176470588235295], [0.47843137254901963, 0.5215686274509804, 0.5058823529411764], [0.4627450980392157, 0.5058823529411764, 0.49019607843137253], [0.45098039215686275, 0.49411764705882355, 0.4745098039215686], [0.4627450980392157, 0.5058823529411764, 0.47843137254901963], [0.49411764705882355, 0.5372549019607843, 0.5058823529411764], [0.4666666666666667, 0.5098039215686274, 0.4745098039215686], [0.40784313725490196, 0.45098039215686275, 0.4196078431372549], [0.4117647058823529, 0.4470588235294118, 0.4], [0.4392156862745098, 0.4666666666666667, 0.41568627450980394], [0.45098039215686275, 0.4823529411764706, 0.45098039215686275], [0.44313725490196076, 0.4823529411764706, 0.4666666666666667], [0.44313725490196076, 0.4745098039215686, 0.4666666666666667], [0.45098039215686275, 0.4745098039215686, 0.4666666666666667], [0.45098039215686275, 0.4745098039215686, 0.4666666666666667], [0.48627450980392156, 0.5098039215686274, 0.5019607843137255], [0.4666666666666667, 0.49411764705882355, 0.48627450980392156], [0.4196078431372549, 0.4588235294117647, 0.4470588235294118], [0.403921568627451, 0.4470588235294118, 0.43137254901960786], [0.4235294117647059, 0.4666666666666667, 0.45098039215686275]], [[0.4235294117647059, 0.4823529411764706, 0.4627450980392157], [0.403921568627451, 0.4627450980392157, 0.44313725490196076], [0.44313725490196076, 0.5019607843137255, 0.4823529411764706], [0.4549019607843137, 0.5098039215686274, 0.5019607843137255], [0.47843137254901963, 0.5333333333333333, 0.5333333333333333], [0.4823529411764706, 0.5372549019607843, 0.5372549019607843], [0.5019607843137255, 0.5568627450980392, 0.5568627450980392], [0.48627450980392156, 0.5333333333333333, 0.5294117647058824], [0.4470588235294118, 0.49019607843137253, 0.47843137254901963], [0.4549019607843137, 0.4980392156862745, 0.48627450980392156], [0.47058823529411764, 0.5137254901960784, 0.4980392156862745], [0.4823529411764706, 0.5254901960784314, 0.5098039215686274], [0.4823529411764706, 0.5254901960784314, 0.5098039215686274], [0.4549019607843137, 0.4980392156862745, 0.4823529411764706], [0.4588235294117647, 0.5019607843137255, 0.48627450980392156], [0.4588235294117647, 0.5019607843137255, 0.48627450980392156], [0.47058823529411764, 0.5137254901960784, 0.48627450980392156], [0.47058823529411764, 0.5137254901960784, 0.47843137254901963], [0.43529411764705883, 0.47843137254901963, 0.4470588235294118], [0.41568627450980394, 0.4588235294117647, 0.42745098039215684], [0.43529411764705883, 0.4666666666666667, 0.41568627450980394], [0.43529411764705883, 0.4627450980392157, 0.403921568627451], [0.4235294117647059, 0.4627450980392157, 0.41568627450980394], [0.45098039215686275, 0.4980392156862745, 0.4627450980392157], [0.4549019607843137, 0.49411764705882355, 0.4745098039215686], [0.43529411764705883, 0.4588235294117647, 0.45098039215686275], [0.4235294117647059, 0.4470588235294118, 0.4392156862745098], [0.45098039215686275, 0.47058823529411764, 0.4627450980392157], [0.43137254901960786, 0.4627450980392157, 0.45098039215686275], [0.403921568627451, 0.4470588235294118, 0.43137254901960786], [0.403921568627451, 0.4470588235294118, 0.43137254901960786], [0.4196078431372549, 0.4627450980392157, 0.4470588235294118]], [[0.43137254901960786, 0.49411764705882355, 0.47843137254901963], [0.40784313725490196, 0.4666666666666667, 0.45098039215686275], [0.48627450980392156, 0.5450980392156862, 0.5294117647058824], [0.47058823529411764, 0.5254901960784314, 0.5215686274509804], [0.45098039215686275, 0.5058823529411764, 0.5058823529411764], [0.4588235294117647, 0.5137254901960784, 0.5137254901960784], [0.4392156862745098, 0.49411764705882355, 0.49411764705882355], [0.42745098039215684, 0.47843137254901963, 0.47058823529411764], [0.4392156862745098, 0.4823529411764706, 0.4627450980392157], [0.45098039215686275, 0.49411764705882355, 0.47058823529411764], [0.45098039215686275, 0.49411764705882355, 0.47058823529411764], [0.4470588235294118, 0.49019607843137253, 0.47058823529411764], [0.45098039215686275, 0.49411764705882355, 0.47843137254901963], [0.4470588235294118, 0.49019607843137253, 0.4745098039215686], [0.45098039215686275, 0.49411764705882355, 0.47843137254901963], [0.4392156862745098, 0.4823529411764706, 0.4666666666666667], [0.44313725490196076, 0.49019607843137253, 0.4627450980392157], [0.4470588235294118, 0.49019607843137253, 0.4588235294117647], [0.43137254901960786, 0.4745098039215686, 0.44313725490196076], [0.43137254901960786, 0.4745098039215686, 0.44313725490196076], [0.40784313725490196, 0.4666666666666667, 0.4588235294117647], [0.4196078431372549, 0.48627450980392156, 0.4823529411764706], [0.4117647058823529, 0.47058823529411764, 0.4549019607843137], [0.4117647058823529, 0.4666666666666667, 0.43137254901960786], [0.4235294117647059, 0.4627450980392157, 0.43529411764705883], [0.43137254901960786, 0.4549019607843137, 0.4470588235294118], [0.4235294117647059, 0.4470588235294118, 0.4392156862745098], [0.4117647058823529, 0.43529411764705883, 0.42745098039215684], [0.40784313725490196, 0.43529411764705883, 0.4235294117647059], [0.4, 0.44313725490196076, 0.42745098039215684], [0.38823529411764707, 0.43137254901960786, 0.41568627450980394], [0.39215686274509803, 0.43529411764705883, 0.4196078431372549]], [[0.43529411764705883, 0.49411764705882355, 0.49019607843137253], [0.4196078431372549, 0.4745098039215686, 0.47058823529411764], [0.44313725490196076, 0.4980392156862745, 0.49411764705882355], [0.43529411764705883, 0.49019607843137253, 0.49019607843137253], [0.4235294117647059, 0.47843137254901963, 0.47843137254901963], [0.4392156862745098, 0.49411764705882355, 0.49411764705882355], [0.44313725490196076, 0.4980392156862745, 0.4980392156862745], [0.43137254901960786, 0.4823529411764706, 0.47058823529411764], [0.4235294117647059, 0.4666666666666667, 0.43529411764705883], [0.42745098039215684, 0.47058823529411764, 0.4392156862745098], [0.45098039215686275, 0.49411764705882355, 0.4627450980392157], [0.4588235294117647, 0.5019607843137255, 0.4745098039215686], [0.4549019607843137, 0.5019607843137255, 0.48627450980392156], [0.44313725490196076, 0.48627450980392156, 0.47058823529411764], [0.4235294117647059, 0.4666666666666667, 0.45098039215686275], [0.4117647058823529, 0.4549019607843137, 0.43529411764705883], [0.403921568627451, 0.4470588235294118, 0.4196078431372549], [0.41568627450980394, 0.4588235294117647, 0.42745098039215684], [0.42745098039215684, 0.47058823529411764, 0.4392156862745098], [0.42745098039215684, 0.47058823529411764, 0.4392156862745098], [0.39215686274509803, 0.4980392156862745, 0.5490196078431373], [0.3607843137254902, 0.49019607843137253, 0.5764705882352941], [0.37254901960784315, 0.4627450980392157, 0.4980392156862745], [0.39215686274509803, 0.45098039215686275, 0.4392156862745098], [0.40784313725490196, 0.4470588235294118, 0.4235294117647059], [0.4235294117647059, 0.4470588235294118, 0.4392156862745098], [0.44313725490196076, 0.4666666666666667, 0.4588235294117647], [0.4196078431372549, 0.44313725490196076, 0.43529411764705883], [0.396078431372549, 0.4235294117647059, 0.41568627450980394], [0.39215686274509803, 0.43529411764705883, 0.4196078431372549], [0.3843137254901961, 0.42745098039215684, 0.41568627450980394], [0.38823529411764707, 0.43137254901960786, 0.41568627450980394]], [[0.4196078431372549, 0.47843137254901963, 0.47058823529411764], [0.4235294117647059, 0.4823529411764706, 0.47058823529411764], [0.4235294117647059, 0.4823529411764706, 0.47058823529411764], [0.4549019607843137, 0.5058823529411764, 0.4980392156862745], [0.4549019607843137, 0.5019607843137255, 0.49411764705882355], [0.4588235294117647, 0.5058823529411764, 0.4980392156862745], [0.4549019607843137, 0.5019607843137255, 0.49411764705882355], [0.44313725490196076, 0.49019607843137253, 0.4745098039215686], [0.45098039215686275, 0.49411764705882355, 0.47058823529411764], [0.4392156862745098, 0.4823529411764706, 0.4588235294117647], [0.4470588235294118, 0.49019607843137253, 0.4627450980392157], [0.45098039215686275, 0.4980392156862745, 0.47843137254901963], [0.43529411764705883, 0.49411764705882355, 0.4823529411764706], [0.4470588235294118, 0.49019607843137253, 0.4745098039215686], [0.4980392156862745, 0.5490196078431373, 0.5215686274509804], [0.5450980392156862, 0.6235294117647059, 0.5843137254901961], [0.5254901960784314, 0.592156862745098, 0.5647058823529412], [0.4196078431372549, 0.44313725490196076, 0.39215686274509803], [0.41568627450980394, 0.4470588235294118, 0.403921568627451], [0.39215686274509803, 0.5019607843137255, 0.5333333333333333], [0.2823529411764706, 0.5019607843137255, 0.7019607843137254], [0.2823529411764706, 0.44313725490196076, 0.615686274509804], [0.396078431372549, 0.4549019607843137, 0.5058823529411764], [0.42745098039215684, 0.4745098039215686, 0.47843137254901963], [0.43137254901960786, 0.47058823529411764, 0.4588235294117647], [0.4470588235294118, 0.47843137254901963, 0.47058823529411764], [0.45098039215686275, 0.48627450980392156, 0.47058823529411764], [0.41568627450980394, 0.45098039215686275, 0.42745098039215684], [0.403921568627451, 0.44313725490196076, 0.4117647058823529], [0.37254901960784315, 0.41568627450980394, 0.396078431372549], [0.38823529411764707, 0.42745098039215684, 0.42745098039215684], [0.4117647058823529, 0.4549019607843137, 0.45098039215686275]], [[0.4117647058823529, 0.4745098039215686, 0.45098039215686275], [0.41568627450980394, 0.4745098039215686, 0.4549019607843137], [0.4235294117647059, 0.4823529411764706, 0.4627450980392157], [0.4549019607843137, 0.5019607843137255, 0.48627450980392156], [0.4588235294117647, 0.4980392156862745, 0.4823529411764706], [0.44313725490196076, 0.48627450980392156, 0.47058823529411764], [0.4392156862745098, 0.4823529411764706, 0.4666666666666667], [0.43137254901960786, 0.4745098039215686, 0.4588235294117647], [0.45098039215686275, 0.49411764705882355, 0.47843137254901963], [0.44313725490196076, 0.48627450980392156, 0.47058823529411764], [0.4196078431372549, 0.4627450980392157, 0.4470588235294118], [0.41568627450980394, 0.4627450980392157, 0.44313725490196076], [0.41568627450980394, 0.4627450980392157, 0.4235294117647059], [0.5490196078431373, 0.5686274509803921, 0.5254901960784314], [0.7098039215686275, 0.7490196078431373, 0.6901960784313725], [0.7450980392156863, 0.8313725490196079, 0.7490196078431373], [0.7019607843137254, 0.7647058823529411, 0.7019607843137254], [0.5411764705882353, 0.5843137254901961, 0.5333333333333333], [0.3764705882352941, 0.49019607843137253, 0.5215686274509804], [0.27058823529411763, 0.5254901960784314, 0.7176470588235294], [0.12941176470588237, 0.4549019607843137, 0.7333333333333333], [0.2980392156862745, 0.4470588235294118, 0.5725490196078431], [0.4470588235294118, 0.4745098039215686, 0.4666666666666667], [0.403921568627451, 0.47058823529411764, 0.4627450980392157], [0.396078431372549, 0.4588235294117647, 0.45098039215686275], [0.40784313725490196, 0.4470588235294118, 0.43529411764705883], [0.396078431372549, 0.4392156862745098, 0.41568627450980394], [0.396078431372549, 0.4392156862745098, 0.4], [0.3843137254901961, 0.43137254901960786, 0.3843137254901961], [0.38823529411764707, 0.43137254901960786, 0.403921568627451], [0.403921568627451, 0.44313725490196076, 0.45098039215686275], [0.396078431372549, 0.43529411764705883, 0.44313725490196076]], [[0.41568627450980394, 0.4745098039215686, 0.4549019607843137], [0.4235294117647059, 0.4823529411764706, 0.4627450980392157], [0.40784313725490196, 0.4666666666666667, 0.4470588235294118], [0.4117647058823529, 0.4588235294117647, 0.44313725490196076], [0.4196078431372549, 0.4627450980392157, 0.4470588235294118], [0.4392156862745098, 0.4823529411764706, 0.4666666666666667], [0.4470588235294118, 0.49019607843137253, 0.4745098039215686], [0.4196078431372549, 0.4627450980392157, 0.4470588235294118], [0.41568627450980394, 0.4588235294117647, 0.44313725490196076], [0.43137254901960786, 0.4745098039215686, 0.4588235294117647], [0.42745098039215684, 0.47058823529411764, 0.4549019607843137], [0.41568627450980394, 0.4549019607843137, 0.43137254901960786], [0.4, 0.4196078431372549, 0.36470588235294116], [0.5529411764705883, 0.5764705882352941, 0.5215686274509804], [0.7019607843137254, 0.7568627450980392, 0.7019607843137254], [0.7098039215686275, 0.803921568627451, 0.7372549019607844], [0.7529411764705882, 0.8509803921568627, 0.792156862745098], [0.596078431372549, 0.7686274509803922, 0.8235294117647058], [0.2549019607843137, 0.5411764705882353, 0.7568627450980392], [0.11764705882352941, 0.47843137254901963, 0.8], [0.1607843137254902, 0.4588235294117647, 0.6588235294117647], [0.36470588235294116, 0.4823529411764706, 0.4823529411764706], [0.41568627450980394, 0.47843137254901963, 0.4470588235294118], [0.39215686274509803, 0.5215686274509804, 0.5411764705882353], [0.4, 0.5019607843137255, 0.5176470588235295], [0.38823529411764707, 0.43137254901960786, 0.41568627450980394], [0.3843137254901961, 0.42745098039215684, 0.403921568627451], [0.3803921568627451, 0.4235294117647059, 0.3843137254901961], [0.35294117647058826, 0.4, 0.35294117647058826], [0.3764705882352941, 0.4196078431372549, 0.3843137254901961], [0.4, 0.44313725490196076, 0.4392156862745098], [0.3803921568627451, 0.4196078431372549, 0.41568627450980394]], [[0.39215686274509803, 0.4549019607843137, 0.43529411764705883], [0.4235294117647059, 0.4823529411764706, 0.4627450980392157], [0.4235294117647059, 0.4823529411764706, 0.4627450980392157], [0.4549019607843137, 0.5058823529411764, 0.48627450980392156], [0.4549019607843137, 0.4980392156862745, 0.4823529411764706], [0.44313725490196076, 0.48627450980392156, 0.47058823529411764], [0.4392156862745098, 0.4823529411764706, 0.4666666666666667], [0.4235294117647059, 0.4666666666666667, 0.45098039215686275], [0.4235294117647059, 0.4666666666666667, 0.45098039215686275], [0.4196078431372549, 0.4627450980392157, 0.4470588235294118], [0.41568627450980394, 0.4588235294117647, 0.44313725490196076], [0.4, 0.4392156862745098, 0.42745098039215684], [0.3568627450980392, 0.4117647058823529, 0.4], [0.43529411764705883, 0.5372549019607843, 0.5294117647058824], [0.6823529411764706, 0.8392156862745098, 0.8470588235294118], [0.7176470588235294, 0.9137254901960784, 0.9333333333333333], [0.6235294117647059, 0.8745098039215686, 0.9294117647058824], [0.2823529411764706, 0.6235294117647059, 0.8352941176470589], [0.0784313725490196, 0.4627450980392157, 0.807843137254902], [0.0784313725490196, 0.41568627450980394, 0.7490196078431373], [0.23529411764705882, 0.47058823529411764, 0.6392156862745098], [0.4235294117647059, 0.5372549019607843, 0.5607843137254902], [0.3843137254901961, 0.4980392156862745, 0.5607843137254902], [0.40784313725490196, 0.5843137254901961, 0.7254901960784313], [0.403921568627451, 0.5176470588235295, 0.6039215686274509], [0.4, 0.44313725490196076, 0.43137254901960786], [0.396078431372549, 0.4392156862745098, 0.41568627450980394], [0.3764705882352941, 0.4235294117647059, 0.3843137254901961], [0.3764705882352941, 0.4235294117647059, 0.37254901960784315], [0.39215686274509803, 0.4392156862745098, 0.396078431372549], [0.396078431372549, 0.43529411764705883, 0.4235294117647059], [0.3607843137254902, 0.403921568627451, 0.39215686274509803]], [[0.3803921568627451, 0.4392156862745098, 0.4196078431372549], [0.38823529411764707, 0.4470588235294118, 0.42745098039215684], [0.403921568627451, 0.4627450980392157, 0.44313725490196076], [0.4588235294117647, 0.5058823529411764, 0.49019607843137253], [0.44313725490196076, 0.48627450980392156, 0.47058823529411764], [0.41568627450980394, 0.4588235294117647, 0.44313725490196076], [0.42745098039215684, 0.47058823529411764, 0.4549019607843137], [0.4235294117647059, 0.4666666666666667, 0.45098039215686275], [0.42745098039215684, 0.47058823529411764, 0.4549019607843137], [0.41568627450980394, 0.4588235294117647, 0.44313725490196076], [0.4117647058823529, 0.4549019607843137, 0.43529411764705883], [0.41568627450980394, 0.4549019607843137, 0.4470588235294118], [0.33725490196078434, 0.40784313725490196, 0.4235294117647059], [0.4, 0.5568627450980392, 0.5803921568627451], [0.6784313725490196, 0.9098039215686274, 0.9607843137254902], [0.5882352941176471, 0.8588235294117647, 0.9450980392156862], [0.3333333333333333, 0.6745098039215687, 0.8431372549019608], [0.1411764705882353, 0.5215686274509804, 0.8156862745098039], [0.10980392156862745, 0.4666666666666667, 0.8196078431372549], [0.1607843137254902, 0.4588235294117647, 0.7490196078431373], [0.30980392156862746, 0.5568627450980392, 0.7647058823529411], [0.396078431372549, 0.5764705882352941, 0.7215686274509804], [0.3764705882352941, 0.5607843137254902, 0.7333333333333333], [0.3764705882352941, 0.5764705882352941, 0.7843137254901961], [0.3764705882352941, 0.4823529411764706, 0.5843137254901961], [0.3843137254901961, 0.42745098039215684, 0.41568627450980394], [0.4, 0.4470588235294118, 0.4196078431372549], [0.3843137254901961, 0.43137254901960786, 0.39215686274509803], [0.36470588235294116, 0.4117647058823529, 0.3607843137254902], [0.3607843137254902, 0.40784313725490196, 0.3568627450980392], [0.38823529411764707, 0.43137254901960786, 0.40784313725490196], [0.34509803921568627, 0.38823529411764707, 0.36470588235294116]], [[0.36470588235294116, 0.4196078431372549, 0.403921568627451], [0.3843137254901961, 0.4392156862745098, 0.4196078431372549], [0.396078431372549, 0.4549019607843137, 0.43529411764705883], [0.4117647058823529, 0.4627450980392157, 0.45098039215686275], [0.40784313725490196, 0.45098039215686275, 0.43529411764705883], [0.403921568627451, 0.4470588235294118, 0.42745098039215684], [0.4196078431372549, 0.4627450980392157, 0.4470588235294118], [0.43529411764705883, 0.4823529411764706, 0.4666666666666667], [0.43137254901960786, 0.47843137254901963, 0.4627450980392157], [0.403921568627451, 0.45098039215686275, 0.43529411764705883], [0.396078431372549, 0.44313725490196076, 0.42745098039215684], [0.3803921568627451, 0.41568627450980394, 0.4], [0.3764705882352941, 0.40784313725490196, 0.39215686274509803], [0.5254901960784314, 0.6588235294117647, 0.6549019607843137], [0.6941176470588235, 0.9137254901960784, 0.9411764705882353], [0.615686274509804, 0.8588235294117647, 0.9333333333333333], [0.4666666666666667, 0.7647058823529411, 0.9254901960784314], [0.34509803921568627, 0.6509803921568628, 0.9176470588235294], [0.29411764705882354, 0.596078431372549, 0.9098039215686274], [0.26666666666666666, 0.596078431372549, 0.8862745098039215], [0.26666666666666666, 0.592156862745098, 0.8392156862745098], [0.3215686274509804, 0.5764705882352941, 0.7843137254901961], [0.35294117647058826, 0.6, 0.807843137254902], [0.3607843137254902, 0.5686274509803921, 0.7450980392156863], [0.37254901960784315, 0.4627450980392157, 0.5254901960784314], [0.3843137254901961, 0.42745098039215684, 0.4117647058823529], [0.39215686274509803, 0.43529411764705883, 0.4117647058823529], [0.3803921568627451, 0.42745098039215684, 0.38823529411764707], [0.34901960784313724, 0.396078431372549, 0.34509803921568627], [0.3215686274509804, 0.37254901960784315, 0.3137254901960784], [0.3686274509803922, 0.4117647058823529, 0.3803921568627451], [0.3607843137254902, 0.40784313725490196, 0.37254901960784315]], [[0.4235294117647059, 0.4666666666666667, 0.4588235294117647], [0.4627450980392157, 0.5058823529411764, 0.4980392156862745], [0.45098039215686275, 0.49411764705882355, 0.48627450980392156], [0.403921568627451, 0.45098039215686275, 0.4588235294117647], [0.403921568627451, 0.45098039215686275, 0.44313725490196076], [0.40784313725490196, 0.4470588235294118, 0.40784313725490196], [0.40784313725490196, 0.4470588235294118, 0.4196078431372549], [0.41568627450980394, 0.4745098039215686, 0.4549019607843137], [0.4117647058823529, 0.4823529411764706, 0.4627450980392157], [0.403921568627451, 0.45098039215686275, 0.4470588235294118], [0.396078431372549, 0.4549019607843137, 0.4549019607843137], [0.3803921568627451, 0.4470588235294118, 0.4549019607843137], [0.5607843137254902, 0.6274509803921569, 0.6588235294117647], [0.6901960784313725, 0.8549019607843137, 0.8784313725490196], [0.6549019607843137, 0.8666666666666667, 0.9019607843137255], [0.6666666666666666, 0.8509803921568627, 0.9176470588235294], [0.6274509803921569, 0.8627450980392157, 0.9686274509803922], [0.5254901960784314, 0.803921568627451, 0.9686274509803922], [0.42745098039215684, 0.7333333333333333, 0.9529411764705882], [0.4, 0.7333333333333333, 0.9372549019607843], [0.396078431372549, 0.7019607843137254, 0.9215686274509803], [0.3686274509803922, 0.6039215686274509, 0.8392156862745098], [0.35294117647058826, 0.5843137254901961, 0.8274509803921568], [0.3843137254901961, 0.5529411764705883, 0.7254901960784313], [0.3843137254901961, 0.4470588235294118, 0.4823529411764706], [0.40784313725490196, 0.45098039215686275, 0.43529411764705883], [0.3568627450980392, 0.4, 0.3803921568627451], [0.33725490196078434, 0.3803921568627451, 0.3568627450980392], [0.3333333333333333, 0.3803921568627451, 0.34901960784313724], [0.33725490196078434, 0.3843137254901961, 0.3333333333333333], [0.3568627450980392, 0.4, 0.3568627450980392], [0.3686274509803922, 0.41568627450980394, 0.3686274509803922]], [[0.5215686274509804, 0.5607843137254902, 0.5607843137254902], [0.4745098039215686, 0.5137254901960784, 0.5137254901960784], [0.43529411764705883, 0.4745098039215686, 0.4745098039215686], [0.4666666666666667, 0.5058823529411764, 0.5098039215686274], [0.4235294117647059, 0.4588235294117647, 0.44313725490196076], [0.4117647058823529, 0.45098039215686275, 0.403921568627451], [0.403921568627451, 0.43529411764705883, 0.40784313725490196], [0.39215686274509803, 0.4392156862745098, 0.42745098039215684], [0.39215686274509803, 0.4549019607843137, 0.44313725490196076], [0.39215686274509803, 0.43529411764705883, 0.4549019607843137], [0.4, 0.4627450980392157, 0.4980392156862745], [0.29411764705882354, 0.396078431372549, 0.4627450980392157], [0.396078431372549, 0.5450980392156862, 0.7019607843137254], [0.4980392156862745, 0.7372549019607844, 0.8862745098039215], [0.4470588235294118, 0.7137254901960784, 0.8627450980392157], [0.4588235294117647, 0.6784313725490196, 0.8470588235294118], [0.4549019607843137, 0.6784313725490196, 0.796078431372549], [0.4470588235294118, 0.7137254901960784, 0.8470588235294118], [0.47058823529411764, 0.7686274509803922, 0.9450980392156862], [0.47843137254901963, 0.7764705882352941, 0.9529411764705882], [0.3803921568627451, 0.6392156862745098, 0.8666666666666667], [0.3686274509803922, 0.5764705882352941, 0.8235294117647058], [0.37254901960784315, 0.5843137254901961, 0.8313725490196079], [0.36470588235294116, 0.5098039215686274, 0.6588235294117647], [0.34901960784313724, 0.396078431372549, 0.403921568627451], [0.3686274509803922, 0.4117647058823529, 0.39215686274509803], [0.39215686274509803, 0.43529411764705883, 0.4196078431372549], [0.34901960784313724, 0.39215686274509803, 0.3764705882352941], [0.3254901960784314, 0.3686274509803922, 0.34901960784313724], [0.32941176470588235, 0.37254901960784315, 0.34509803921568627], [0.3176470588235294, 0.3607843137254902, 0.3333333333333333], [0.3254901960784314, 0.3686274509803922, 0.33725490196078434]], [[0.43137254901960786, 0.47058823529411764, 0.47843137254901963], [0.39215686274509803, 0.43137254901960786, 0.4392156862745098], [0.44313725490196076, 0.4823529411764706, 0.49019607843137253], [0.5294117647058824, 0.5529411764705883, 0.5529411764705883], [0.4588235294117647, 0.49411764705882355, 0.47058823529411764], [0.403921568627451, 0.4588235294117647, 0.43529411764705883], [0.396078431372549, 0.4392156862745098, 0.4392156862745098], [0.43137254901960786, 0.49019607843137253, 0.5176470588235295], [0.3333333333333333, 0.4196078431372549, 0.47843137254901963], [0.15294117647058825, 0.23137254901960785, 0.3254901960784314], [0.2196078431372549, 0.32941176470588235, 0.4549019607843137], [0.1450980392156863, 0.28627450980392155, 0.4235294117647059], [0.3176470588235294, 0.4470588235294118, 0.6], [0.3764705882352941, 0.5647058823529412, 0.7098039215686275], [0.3686274509803922, 0.5882352941176471, 0.7372549019607844], [0.4666666666666667, 0.6627450980392157, 0.8235294117647058], [0.4980392156862745, 0.7019607843137254, 0.8156862745098039], [0.5019607843137255, 0.7529411764705882, 0.8745098039215686], [0.5490196078431373, 0.8235294117647058, 0.984313725490196], [0.41568627450980394, 0.6862745098039216, 0.9019607843137255], [0.30980392156862746, 0.5529411764705883, 0.8156862745098039], [0.34901960784313724, 0.5529411764705883, 0.8], [0.3333333333333333, 0.5450980392156862, 0.7647058823529411], [0.28627450980392155, 0.4392156862745098, 0.5372549019607843], [0.3058823529411765, 0.3568627450980392, 0.32941176470588235], [0.33725490196078434, 0.3764705882352941, 0.3607843137254902], [0.38823529411764707, 0.43137254901960786, 0.41568627450980394], [0.33725490196078434, 0.3803921568627451, 0.36470588235294116], [0.36470588235294116, 0.40784313725490196, 0.39215686274509803], [0.38823529411764707, 0.42745098039215684, 0.4196078431372549], [0.30980392156862746, 0.34901960784313724, 0.3411764705882353], [0.34509803921568627, 0.3843137254901961, 0.3764705882352941]], [[0.42745098039215684, 0.4627450980392157, 0.48627450980392156], [0.5254901960784314, 0.5607843137254902, 0.5803921568627451], [0.5372549019607843, 0.5764705882352941, 0.596078431372549], [0.45098039215686275, 0.49019607843137253, 0.5019607843137255], [0.3764705882352941, 0.4588235294117647, 0.4745098039215686], [0.39215686274509803, 0.5176470588235295, 0.5607843137254902], [0.39215686274509803, 0.4980392156862745, 0.5764705882352941], [0.27450980392156865, 0.396078431372549, 0.5019607843137255], [0.25882352941176473, 0.4196078431372549, 0.5607843137254902], [0.22745098039215686, 0.37254901960784315, 0.5411764705882353], [0.34509803921568627, 0.5137254901960784, 0.7019607843137254], [0.36470588235294116, 0.5607843137254902, 0.7411764705882353], [0.41568627450980394, 0.6, 0.7333333333333333], [0.40784313725490196, 0.6235294117647059, 0.7490196078431373], [0.4745098039215686, 0.7176470588235294, 0.8509803921568627], [0.5686274509803921, 0.807843137254902, 0.9450980392156862], [0.6352941176470588, 0.8588235294117647, 0.9607843137254902], [0.6196078431372549, 0.8705882352941177, 0.9607843137254902], [0.4823529411764706, 0.7647058823529411, 0.9019607843137255], [0.33725490196078434, 0.6078431372549019, 0.8274509803921568], [0.30980392156862746, 0.5647058823529412, 0.8235294117647058], [0.33725490196078434, 0.5647058823529412, 0.803921568627451], [0.34509803921568627, 0.5803921568627451, 0.792156862745098], [0.3058823529411765, 0.4823529411764706, 0.5725490196078431], [0.3137254901960784, 0.3764705882352941, 0.34509803921568627], [0.38823529411764707, 0.42745098039215684, 0.4117647058823529], [0.4235294117647059, 0.4666666666666667, 0.45098039215686275], [0.39215686274509803, 0.43529411764705883, 0.4196078431372549], [0.38823529411764707, 0.43137254901960786, 0.41568627450980394], [0.38823529411764707, 0.42745098039215684, 0.4196078431372549], [0.3568627450980392, 0.396078431372549, 0.38823529411764707], [0.39215686274509803, 0.43137254901960786, 0.4235294117647059]], [[0.49411764705882355, 0.5294117647058824, 0.5647058823529412], [0.5686274509803921, 0.6, 0.6352941176470588], [0.5098039215686274, 0.5450980392156862, 0.5725490196078431], [0.44313725490196076, 0.5137254901960784, 0.5490196078431373], [0.43137254901960786, 0.592156862745098, 0.6666666666666666], [0.48627450980392156, 0.7137254901960784, 0.8470588235294118], [0.4470588235294118, 0.6549019607843137, 0.8352941176470589], [0.3568627450980392, 0.5411764705882353, 0.7098039215686275], [0.35294117647058826, 0.5254901960784314, 0.6745098039215687], [0.27450980392156865, 0.40784313725490196, 0.5607843137254902], [0.2549019607843137, 0.37254901960784315, 0.5254901960784314], [0.2901960784313726, 0.4235294117647059, 0.5647058823529412], [0.30196078431372547, 0.4666666666666667, 0.6039215686274509], [0.3254901960784314, 0.5176470588235295, 0.6588235294117647], [0.34509803921568627, 0.5686274509803921, 0.7137254901960784], [0.3607843137254902, 0.6039215686274509, 0.7529411764705882], [0.4980392156862745, 0.7411764705882353, 0.8745098039215686], [0.5686274509803921, 0.8470588235294118, 0.9490196078431372], [0.5215686274509804, 0.8352941176470589, 0.9372549019607843], [0.4823529411764706, 0.7803921568627451, 0.9529411764705882], [0.40784313725490196, 0.7098039215686275, 0.9372549019607843], [0.4, 0.6705882352941176, 0.8980392156862745], [0.42745098039215684, 0.6980392156862745, 0.9254901960784314], [0.40784313725490196, 0.615686274509804, 0.7411764705882353], [0.3803921568627451, 0.4588235294117647, 0.4549019607843137], [0.4392156862745098, 0.47843137254901963, 0.4627450980392157], [0.40784313725490196, 0.45098039215686275, 0.4392156862745098], [0.38823529411764707, 0.43137254901960786, 0.41568627450980394], [0.38823529411764707, 0.43137254901960786, 0.4117647058823529], [0.35294117647058826, 0.396078431372549, 0.3686274509803922], [0.36470588235294116, 0.40784313725490196, 0.3764705882352941], [0.36470588235294116, 0.40784313725490196, 0.3764705882352941]], [[0.4980392156862745, 0.5333333333333333, 0.5607843137254902], [0.47058823529411764, 0.5137254901960784, 0.5411764705882353], [0.5372549019607843, 0.5882352941176471, 0.6313725490196078], [0.5568627450980392, 0.6745098039215687, 0.7529411764705882], [0.4980392156862745, 0.7019607843137254, 0.8235294117647058], [0.3843137254901961, 0.6235294117647059, 0.788235294117647], [0.28627450980392155, 0.4980392156862745, 0.6941176470588235], [0.2196078431372549, 0.3686274509803922, 0.5176470588235295], [0.11764705882352941, 0.21568627450980393, 0.2901960784313726], [0.06274509803921569, 0.12156862745098039, 0.19215686274509805], [0.10196078431372549, 0.13333333333333333, 0.19215686274509805], [0.12549019607843137, 0.15294117647058825, 0.19215686274509805], [0.16862745098039217, 0.17254901960784313, 0.21568627450980393], [0.17647058823529413, 0.1843137254901961, 0.23921568627450981], [0.16862745098039217, 0.2, 0.2549019607843137], [0.1450980392156863, 0.21176470588235294, 0.27058823529411763], [0.2627450980392157, 0.4235294117647059, 0.5176470588235295], [0.5098039215686274, 0.7725490196078432, 0.8745098039215686], [0.5568627450980392, 0.8862745098039215, 0.9882352941176471], [0.5607843137254902, 0.8862745098039215, 1.0], [0.5294117647058824, 0.8313725490196079, 0.9882352941176471], [0.5019607843137255, 0.7843137254901961, 0.9607843137254902], [0.4980392156862745, 0.792156862745098, 0.984313725490196], [0.47843137254901963, 0.7176470588235294, 0.8666666666666667], [0.35294117647058826, 0.4549019607843137, 0.49411764705882355], [0.3803921568627451, 0.41568627450980394, 0.396078431372549], [0.3568627450980392, 0.4, 0.3803921568627451], [0.3137254901960784, 0.3607843137254902, 0.34509803921568627], [0.3254901960784314, 0.37254901960784315, 0.3568627450980392], [0.3411764705882353, 0.3843137254901961, 0.34509803921568627], [0.3607843137254902, 0.4, 0.3568627450980392], [0.3686274509803922, 0.4117647058823529, 0.3686274509803922]], [[0.4980392156862745, 0.5372549019607843, 0.5372549019607843], [0.42745098039215684, 0.48627450980392156, 0.49411764705882355], [0.4588235294117647, 0.5568627450980392, 0.611764705882353], [0.36470588235294116, 0.5058823529411764, 0.6], [0.2235294117647059, 0.36470588235294116, 0.4588235294117647], [0.16470588235294117, 0.27450980392156865, 0.3607843137254902], [0.13725490196078433, 0.20392156862745098, 0.2784313725490196], [0.1411764705882353, 0.1803921568627451, 0.22745098039215686], [0.1607843137254902, 0.19215686274509805, 0.20392156862745098], [0.23529411764705882, 0.2627450980392157, 0.27058823529411763], [0.3215686274509804, 0.34509803921568627, 0.34901960784313724], [0.3215686274509804, 0.33725490196078434, 0.3411764705882353], [0.27058823529411763, 0.26666666666666666, 0.27450980392156865], [0.19607843137254902, 0.18823529411764706, 0.2], [0.16470588235294117, 0.1607843137254902, 0.16862745098039217], [0.17254901960784313, 0.17647058823529413, 0.1843137254901961], [0.18823529411764706, 0.23137254901960785, 0.25882352941176473], [0.2901960784313726, 0.44313725490196076, 0.5254901960784314], [0.4980392156862745, 0.7686274509803922, 0.8941176470588236], [0.5568627450980392, 0.8666666666666667, 0.9921568627450981], [0.5803921568627451, 0.8431372549019608, 0.9529411764705882], [0.5725490196078431, 0.8313725490196079, 0.9333333333333333], [0.5607843137254902, 0.8470588235294118, 0.9568627450980393], [0.5568627450980392, 0.8117647058823529, 0.9450980392156862], [0.3607843137254902, 0.49411764705882355, 0.5725490196078431], [0.3686274509803922, 0.4, 0.37254901960784315], [0.38823529411764707, 0.42745098039215684, 0.40784313725490196], [0.3333333333333333, 0.3843137254901961, 0.3803921568627451], [0.3254901960784314, 0.3803921568627451, 0.37254901960784315], [0.3411764705882353, 0.37254901960784315, 0.34509803921568627], [0.3568627450980392, 0.38823529411764707, 0.3568627450980392], [0.35294117647058826, 0.3843137254901961, 0.35294117647058826]], [[0.38823529411764707, 0.43137254901960786, 0.40784313725490196], [0.3764705882352941, 0.43137254901960786, 0.4196078431372549], [0.2980392156862745, 0.4, 0.4235294117647059], [0.19607843137254902, 0.27450980392156865, 0.2980392156862745], [0.19607843137254902, 0.23529411764705882, 0.24705882352941178], [0.2980392156862745, 0.3176470588235294, 0.32941176470588235], [0.38823529411764707, 0.38823529411764707, 0.4], [0.396078431372549, 0.403921568627451, 0.4117647058823529], [0.35294117647058826, 0.3803921568627451, 0.3843137254901961], [0.34901960784313724, 0.3803921568627451, 0.3843137254901961], [0.40784313725490196, 0.4392156862745098, 0.44313725490196076], [0.4, 0.42745098039215684, 0.43529411764705883], [0.33725490196078434, 0.34901960784313724, 0.3607843137254902], [0.30196078431372547, 0.3137254901960784, 0.3254901960784314], [0.2549019607843137, 0.27058823529411763, 0.2823529411764706], [0.2549019607843137, 0.27058823529411763, 0.28627450980392155], [0.28627450980392155, 0.3215686274509804, 0.34901960784313724], [0.20392156862745098, 0.2784313725490196, 0.3176470588235294], [0.30980392156862746, 0.4666666666666667, 0.5372549019607843], [0.5411764705882353, 0.792156862745098, 0.9098039215686274], [0.5843137254901961, 0.8627450980392157, 0.984313725490196], [0.5882352941176471, 0.8745098039215686, 0.9803921568627451], [0.6039215686274509, 0.8901960784313725, 0.984313725490196], [0.6431372549019608, 0.9019607843137255, 0.9921568627450981], [0.48627450980392156, 0.6431372549019608, 0.7176470588235294], [0.40784313725490196, 0.4549019607843137, 0.4666666666666667], [0.44313725490196076, 0.48627450980392156, 0.49411764705882355], [0.43529411764705883, 0.4745098039215686, 0.47843137254901963], [0.403921568627451, 0.43529411764705883, 0.43137254901960786], [0.39215686274509803, 0.41568627450980394, 0.4], [0.4196078431372549, 0.44313725490196076, 0.4235294117647059], [0.3803921568627451, 0.403921568627451, 0.38823529411764707]], [[0.3568627450980392, 0.396078431372549, 0.36470588235294116], [0.37254901960784315, 0.41568627450980394, 0.396078431372549], [0.3333333333333333, 0.41568627450980394, 0.4], [0.3333333333333333, 0.3843137254901961, 0.36470588235294116], [0.36470588235294116, 0.3803921568627451, 0.36470588235294116], [0.43137254901960786, 0.4588235294117647, 0.4627450980392157], [0.4549019607843137, 0.4823529411764706, 0.5098039215686274], [0.42745098039215684, 0.4627450980392157, 0.48627450980392156], [0.42745098039215684, 0.47058823529411764, 0.47843137254901963], [0.3686274509803922, 0.4117647058823529, 0.4196078431372549], [0.3764705882352941, 0.41568627450980394, 0.42745098039215684], [0.3686274509803922, 0.40784313725490196, 0.4196078431372549], [0.34509803921568627, 0.36470588235294116, 0.3843137254901961], [0.3411764705882353, 0.36470588235294116, 0.3803921568627451], [0.34901960784313724, 0.37254901960784315, 0.38823529411764707], [0.34509803921568627, 0.37254901960784315, 0.39215686274509803], [0.3215686274509804, 0.36470588235294116, 0.4], [0.3137254901960784, 0.32941176470588235, 0.33725490196078434], [0.2823529411764706, 0.3215686274509804, 0.32941176470588235], [0.37254901960784315, 0.5254901960784314, 0.6078431372549019], [0.5294117647058824, 0.788235294117647, 0.9176470588235294], [0.5607843137254902, 0.8352941176470589, 0.9490196078431372], [0.6078431372549019, 0.8509803921568627, 0.9372549019607843], [0.6666666666666666, 0.8823529411764706, 0.9411764705882353], [0.5882352941176471, 0.7333333333333333, 0.788235294117647], [0.4745098039215686, 0.5333333333333333, 0.5803921568627451], [0.4745098039215686, 0.5137254901960784, 0.5450980392156862], [0.43529411764705883, 0.4588235294117647, 0.47058823529411764], [0.40784313725490196, 0.4196078431372549, 0.4196078431372549], [0.4627450980392157, 0.4823529411764706, 0.4745098039215686], [0.48627450980392156, 0.5098039215686274, 0.4980392156862745], [0.47058823529411764, 0.49411764705882355, 0.48627450980392156]], [[0.3686274509803922, 0.403921568627451, 0.38823529411764707], [0.39215686274509803, 0.4196078431372549, 0.41568627450980394], [0.3764705882352941, 0.43529411764705883, 0.40784313725490196], [0.34901960784313724, 0.41568627450980394, 0.396078431372549], [0.36470588235294116, 0.4196078431372549, 0.42745098039215684], [0.3764705882352941, 0.4470588235294118, 0.4745098039215686], [0.396078431372549, 0.47058823529411764, 0.5176470588235295], [0.47843137254901963, 0.5450980392156862, 0.5843137254901961], [0.5254901960784314, 0.5725490196078431, 0.592156862745098], [0.44313725490196076, 0.49019607843137253, 0.5098039215686274], [0.403921568627451, 0.45098039215686275, 0.4745098039215686], [0.43137254901960786, 0.4745098039215686, 0.4980392156862745], [0.396078431372549, 0.42745098039215684, 0.4549019607843137], [0.4, 0.43137254901960786, 0.4588235294117647], [0.4235294117647059, 0.4549019607843137, 0.4823529411764706], [0.396078431372549, 0.43137254901960786, 0.4588235294117647], [0.3176470588235294, 0.34901960784313724, 0.3764705882352941], [0.33725490196078434, 0.3333333333333333, 0.33725490196078434], [0.3803921568627451, 0.3764705882352941, 0.3764705882352941], [0.30196078431372547, 0.3607843137254902, 0.4117647058823529], [0.30980392156862746, 0.4666666666666667, 0.5490196078431373], [0.3058823529411765, 0.4745098039215686, 0.5607843137254902], [0.30980392156862746, 0.44313725490196076, 0.4980392156862745], [0.32941176470588235, 0.4549019607843137, 0.47843137254901963], [0.403921568627451, 0.5019607843137255, 0.5215686274509804], [0.4470588235294118, 0.5019607843137255, 0.5294117647058824], [0.4745098039215686, 0.5176470588235295, 0.5333333333333333], [0.4627450980392157, 0.49411764705882355, 0.4980392156862745], [0.4117647058823529, 0.43137254901960786, 0.43137254901960786], [0.42745098039215684, 0.45098039215686275, 0.45098039215686275], [0.45098039215686275, 0.4745098039215686, 0.4745098039215686], [0.47843137254901963, 0.5019607843137255, 0.4980392156862745]], [[0.39215686274509803, 0.4235294117647059, 0.43529411764705883], [0.38823529411764707, 0.4, 0.43137254901960786], [0.36470588235294116, 0.40784313725490196, 0.3843137254901961], [0.3254901960784314, 0.38823529411764707, 0.36470588235294116], [0.3411764705882353, 0.4, 0.396078431372549], [0.36470588235294116, 0.41568627450980394, 0.4235294117647059], [0.40784313725490196, 0.4549019607843137, 0.47058823529411764], [0.4745098039215686, 0.5215686274509804, 0.5450980392156862], [0.4627450980392157, 0.5137254901960784, 0.5450980392156862], [0.4392156862745098, 0.49019607843137253, 0.5215686274509804], [0.5019607843137255, 0.5568627450980392, 0.5843137254901961], [0.5176470588235295, 0.5647058823529412, 0.596078431372549], [0.48627450980392156, 0.5254901960784314, 0.5607843137254902], [0.49411764705882355, 0.5294117647058824, 0.5647058823529412], [0.49019607843137253, 0.5294117647058824, 0.5647058823529412], [0.4392156862745098, 0.47058823529411764, 0.5019607843137255], [0.3843137254901961, 0.38823529411764707, 0.403921568627451], [0.3686274509803922, 0.3843137254901961, 0.41568627450980394], [0.35294117647058826, 0.3803921568627451, 0.4235294117647059], [0.3568627450980392, 0.35294117647058826, 0.3803921568627451], [0.27450980392156865, 0.2980392156862745, 0.3137254901960784], [0.23921568627450981, 0.25882352941176473, 0.28627450980392155], [0.23921568627450981, 0.23137254901960785, 0.24705882352941178], [0.22745098039215686, 0.24705882352941178, 0.22745098039215686], [0.3058823529411765, 0.34901960784313724, 0.3176470588235294], [0.34901960784313724, 0.3803921568627451, 0.36470588235294116], [0.4, 0.4392156862745098, 0.42745098039215684], [0.4745098039215686, 0.5254901960784314, 0.5215686274509804], [0.43137254901960786, 0.47843137254901963, 0.4823529411764706], [0.4235294117647059, 0.4470588235294118, 0.4549019607843137], [0.403921568627451, 0.4235294117647059, 0.43529411764705883], [0.4392156862745098, 0.4588235294117647, 0.4666666666666667]], [[0.37254901960784315, 0.41568627450980394, 0.41568627450980394], [0.3686274509803922, 0.39215686274509803, 0.403921568627451], [0.37254901960784315, 0.4, 0.3843137254901961], [0.34901960784313724, 0.39215686274509803, 0.3686274509803922], [0.3568627450980392, 0.4, 0.3803921568627451], [0.3764705882352941, 0.4117647058823529, 0.39215686274509803], [0.4, 0.42745098039215684, 0.4117647058823529], [0.41568627450980394, 0.4470588235294118, 0.4470588235294118], [0.4470588235294118, 0.49411764705882355, 0.5176470588235295], [0.4627450980392157, 0.5098039215686274, 0.5372549019607843], [0.5058823529411764, 0.5490196078431373, 0.5843137254901961], [0.5019607843137255, 0.5411764705882353, 0.5803921568627451], [0.4392156862745098, 0.47058823529411764, 0.5019607843137255], [0.47843137254901963, 0.5098039215686274, 0.5372549019607843], [0.47843137254901963, 0.5098039215686274, 0.5372549019607843], [0.44313725490196076, 0.4666666666666667, 0.49411764705882355], [0.43529411764705883, 0.4392156862745098, 0.4549019607843137], [0.39215686274509803, 0.4117647058823529, 0.45098039215686275], [0.34509803921568627, 0.3764705882352941, 0.4235294117647059], [0.3607843137254902, 0.35294117647058826, 0.3764705882352941], [0.3215686274509804, 0.3058823529411765, 0.3058823529411765], [0.3137254901960784, 0.2980392156862745, 0.2980392156862745], [0.2901960784313726, 0.26666666666666666, 0.25882352941176473], [0.2823529411764706, 0.2823529411764706, 0.25098039215686274], [0.34901960784313724, 0.36470588235294116, 0.32941176470588235], [0.3411764705882353, 0.3568627450980392, 0.32941176470588235], [0.3411764705882353, 0.36470588235294116, 0.34509803921568627], [0.40784313725490196, 0.44313725490196076, 0.43137254901960786], [0.37254901960784315, 0.4117647058823529, 0.40784313725490196], [0.4196078431372549, 0.4392156862745098, 0.4549019607843137], [0.4392156862745098, 0.4588235294117647, 0.4745098039215686], [0.4235294117647059, 0.44313725490196076, 0.4627450980392157]], [[0.3254901960784314, 0.3803921568627451, 0.3607843137254902], [0.36470588235294116, 0.40784313725490196, 0.38823529411764707], [0.38823529411764707, 0.41568627450980394, 0.403921568627451], [0.3607843137254902, 0.396078431372549, 0.3843137254901961], [0.34509803921568627, 0.38823529411764707, 0.37254901960784315], [0.3764705882352941, 0.4196078431372549, 0.403921568627451], [0.4, 0.44313725490196076, 0.4235294117647059], [0.4235294117647059, 0.4666666666666667, 0.4627450980392157], [0.5019607843137255, 0.5372549019607843, 0.5529411764705883], [0.5450980392156862, 0.5803921568627451, 0.6078431372549019], [0.47843137254901963, 0.5098039215686274, 0.5529411764705883], [0.43529411764705883, 0.4627450980392157, 0.5058823529411764], [0.4470588235294118, 0.4666666666666667, 0.49411764705882355], [0.4666666666666667, 0.48627450980392156, 0.5058823529411764], [0.4666666666666667, 0.48627450980392156, 0.5058823529411764], [0.4627450980392157, 0.4823529411764706, 0.5019607843137255], [0.4627450980392157, 0.4745098039215686, 0.5019607843137255], [0.4117647058823529, 0.4235294117647059, 0.45098039215686275], [0.37254901960784315, 0.3843137254901961, 0.4117647058823529], [0.35294117647058826, 0.36470588235294116, 0.39215686274509803], [0.29411764705882354, 0.3058823529411765, 0.3254901960784314], [0.28627450980392155, 0.30196078431372547, 0.3058823529411765], [0.3215686274509804, 0.33725490196078434, 0.32941176470588235], [0.3254901960784314, 0.34509803921568627, 0.3215686274509804], [0.34509803921568627, 0.3607843137254902, 0.3411764705882353], [0.3803921568627451, 0.39215686274509803, 0.3843137254901961], [0.37254901960784315, 0.3803921568627451, 0.3764705882352941], [0.35294117647058826, 0.36470588235294116, 0.3568627450980392], [0.43137254901960786, 0.4392156862745098, 0.4392156862745098], [0.48627450980392156, 0.5058823529411764, 0.5294117647058824], [0.43529411764705883, 0.4549019607843137, 0.4823529411764706], [0.42745098039215684, 0.4470588235294118, 0.47058823529411764]], [[0.3137254901960784, 0.37254901960784315, 0.3568627450980392], [0.34509803921568627, 0.38823529411764707, 0.3764705882352941], [0.3607843137254902, 0.38823529411764707, 0.3803921568627451], [0.34901960784313724, 0.3843137254901961, 0.3764705882352941], [0.3411764705882353, 0.3843137254901961, 0.3686274509803922], [0.3176470588235294, 0.3607843137254902, 0.34509803921568627], [0.3607843137254902, 0.403921568627451, 0.38823529411764707], [0.45098039215686275, 0.49411764705882355, 0.48627450980392156], [0.5176470588235295, 0.5529411764705883, 0.5607843137254902], [0.5607843137254902, 0.6, 0.615686274509804], [0.5333333333333333, 0.5686274509803921, 0.6039215686274509], [0.5372549019607843, 0.5686274509803921, 0.6039215686274509], [0.5529411764705883, 0.5725490196078431, 0.5882352941176471], [0.5254901960784314, 0.5450980392156862, 0.5607843137254902], [0.47058823529411764, 0.49019607843137253, 0.5058823529411764], [0.4392156862745098, 0.4549019607843137, 0.47058823529411764], [0.4588235294117647, 0.47058823529411764, 0.49411764705882355], [0.42745098039215684, 0.4392156862745098, 0.4666666666666667], [0.403921568627451, 0.41568627450980394, 0.44313725490196076], [0.3843137254901961, 0.396078431372549, 0.4235294117647059], [0.3333333333333333, 0.34509803921568627, 0.3686274509803922], [0.2823529411764706, 0.2980392156862745, 0.3137254901960784], [0.3333333333333333, 0.34901960784313724, 0.35294117647058826], [0.3411764705882353, 0.3607843137254902, 0.34901960784313724], [0.3254901960784314, 0.34509803921568627, 0.3333333333333333], [0.34901960784313724, 0.36470588235294116, 0.36470588235294116], [0.37254901960784315, 0.38823529411764707, 0.38823529411764707], [0.39215686274509803, 0.40784313725490196, 0.40784313725490196], [0.4823529411764706, 0.5019607843137255, 0.5058823529411764], [0.5137254901960784, 0.5333333333333333, 0.5568627450980392], [0.47843137254901963, 0.4980392156862745, 0.5215686274509804], [0.47843137254901963, 0.4980392156862745, 0.5215686274509804]], [[0.3411764705882353, 0.39215686274509803, 0.38823529411764707], [0.35294117647058826, 0.39215686274509803, 0.39215686274509803], [0.3686274509803922, 0.39215686274509803, 0.4], [0.34509803921568627, 0.3803921568627451, 0.3764705882352941], [0.32941176470588235, 0.3764705882352941, 0.3568627450980392], [0.3333333333333333, 0.3764705882352941, 0.3607843137254902], [0.33725490196078434, 0.3803921568627451, 0.36470588235294116], [0.34901960784313724, 0.39215686274509803, 0.3803921568627451], [0.3843137254901961, 0.4235294117647059, 0.4235294117647059], [0.48627450980392156, 0.5215686274509804, 0.5333333333333333], [0.5607843137254902, 0.596078431372549, 0.6196078431372549], [0.5647058823529412, 0.596078431372549, 0.6196078431372549], [0.5686274509803921, 0.592156862745098, 0.596078431372549], [0.5333333333333333, 0.5568627450980392, 0.5607843137254902], [0.4627450980392157, 0.4823529411764706, 0.48627450980392156], [0.4588235294117647, 0.4823529411764706, 0.48627450980392156], [0.4745098039215686, 0.48627450980392156, 0.5098039215686274], [0.4745098039215686, 0.48627450980392156, 0.5137254901960784], [0.44313725490196076, 0.45098039215686275, 0.47843137254901963], [0.396078431372549, 0.40784313725490196, 0.43529411764705883], [0.3607843137254902, 0.37254901960784315, 0.4], [0.30196078431372547, 0.3137254901960784, 0.33725490196078434], [0.27450980392156865, 0.28627450980392155, 0.30196078431372547], [0.3137254901960784, 0.32941176470588235, 0.32941176470588235], [0.34509803921568627, 0.36470588235294116, 0.3607843137254902], [0.3686274509803922, 0.4, 0.403921568627451], [0.36470588235294116, 0.39215686274509803, 0.396078431372549], [0.37254901960784315, 0.4, 0.403921568627451], [0.4627450980392157, 0.49019607843137253, 0.4980392156862745], [0.5215686274509804, 0.5411764705882353, 0.5647058823529412], [0.47058823529411764, 0.49019607843137253, 0.5137254901960784], [0.48627450980392156, 0.5058823529411764, 0.5294117647058824]], [[0.3411764705882353, 0.396078431372549, 0.403921568627451], [0.34509803921568627, 0.3843137254901961, 0.396078431372549], [0.38823529411764707, 0.4117647058823529, 0.42745098039215684], [0.36470588235294116, 0.396078431372549, 0.396078431372549], [0.33725490196078434, 0.3803921568627451, 0.36470588235294116], [0.3215686274509804, 0.36470588235294116, 0.34901960784313724], [0.3607843137254902, 0.403921568627451, 0.38823529411764707], [0.38823529411764707, 0.43137254901960786, 0.41568627450980394], [0.3803921568627451, 0.4235294117647059, 0.4117647058823529], [0.4, 0.4392156862745098, 0.4392156862745098], [0.4823529411764706, 0.5215686274509804, 0.5333333333333333], [0.5411764705882353, 0.5725490196078431, 0.5882352941176471], [0.4196078431372549, 0.44313725490196076, 0.4392156862745098], [0.403921568627451, 0.42745098039215684, 0.4235294117647059], [0.40784313725490196, 0.43137254901960786, 0.42745098039215684], [0.42745098039215684, 0.45098039215686275, 0.4470588235294118], [0.4666666666666667, 0.4823529411764706, 0.5019607843137255], [0.48627450980392156, 0.4980392156862745, 0.5254901960784314], [0.42745098039215684, 0.4392156862745098, 0.4666666666666667], [0.396078431372549, 0.40784313725490196, 0.43529411764705883], [0.37254901960784315, 0.3843137254901961, 0.4196078431372549], [0.33725490196078434, 0.34901960784313724, 0.3843137254901961], [0.27058823529411763, 0.2823529411764706, 0.3058823529411765], [0.3058823529411765, 0.3215686274509804, 0.32941176470588235], [0.35294117647058826, 0.3764705882352941, 0.3843137254901961], [0.36470588235294116, 0.403921568627451, 0.4117647058823529], [0.3843137254901961, 0.4235294117647059, 0.43529411764705883], [0.403921568627451, 0.4470588235294118, 0.4549019607843137], [0.4666666666666667, 0.5019607843137255, 0.5137254901960784], [0.5254901960784314, 0.5490196078431373, 0.5725490196078431], [0.4745098039215686, 0.49411764705882355, 0.5176470588235295], [0.4470588235294118, 0.4666666666666667, 0.49019607843137253]]]]}'"
            ]
          },
          "metadata": {
            "tags": []
          },
          "execution_count": 50
        }
      ]
    },
    {
      "cell_type": "markdown",
      "metadata": {
        "id": "3myMyKIPHk-u",
        "colab_type": "text"
      },
      "source": [
        "**Enviar la primera petición por POST**"
      ]
    },
    {
      "cell_type": "code",
      "metadata": {
        "id": "uvU8b0qTHsww",
        "colab_type": "code",
        "colab": {}
      },
      "source": [
        "headers = {\"content-type\": \"application/json\"}"
      ],
      "execution_count": 0,
      "outputs": []
    },
    {
      "cell_type": "code",
      "metadata": {
        "id": "qhrmMmR3JO5Q",
        "colab_type": "code",
        "colab": {}
      },
      "source": [
        "json_response = requests.post(url=\"http://localhost:8000/v1/models/cifar10:predict\", data=data, headers=headers)"
      ],
      "execution_count": 0,
      "outputs": []
    },
    {
      "cell_type": "code",
      "metadata": {
        "id": "GMdJViNNJQ_E",
        "colab_type": "code",
        "colab": {
          "base_uri": "https://localhost:8080/",
          "height": 34
        },
        "outputId": "31f335cf-935c-4a53-f597-b296bb2b003f"
      },
      "source": [
        "json_response"
      ],
      "execution_count": 53,
      "outputs": [
        {
          "output_type": "execute_result",
          "data": {
            "text/plain": [
              "<Response [200]>"
            ]
          },
          "metadata": {
            "tags": []
          },
          "execution_count": 53
        }
      ]
    },
    {
      "cell_type": "code",
      "metadata": {
        "id": "sr0GKFlcJVDn",
        "colab_type": "code",
        "colab": {}
      },
      "source": [
        "predictions = json.loads(json_response.text)['predictions']"
      ],
      "execution_count": 0,
      "outputs": []
    },
    {
      "cell_type": "code",
      "metadata": {
        "id": "KFQmwdChJeAc",
        "colab_type": "code",
        "colab": {
          "base_uri": "https://localhost:8080/",
          "height": 191
        },
        "outputId": "9d6d7756-e482-424c-e7fc-1452b201c7da"
      },
      "source": [
        "predictions"
      ],
      "execution_count": 62,
      "outputs": [
        {
          "output_type": "execute_result",
          "data": {
            "text/plain": [
              "[[0.815058172,\n",
              "  8.78179799e-06,\n",
              "  0.181358412,\n",
              "  0.00152557215,\n",
              "  1.32313953e-05,\n",
              "  0.000187260463,\n",
              "  0.000901036139,\n",
              "  7.56890731e-05,\n",
              "  0.000868395495,\n",
              "  3.40938345e-06]]"
            ]
          },
          "metadata": {
            "tags": []
          },
          "execution_count": 62
        }
      ]
    },
    {
      "cell_type": "code",
      "metadata": {
        "id": "fyYtOh8MJhs8",
        "colab_type": "code",
        "colab": {
          "base_uri": "https://localhost:8080/",
          "height": 283
        },
        "outputId": "6b93fef6-2a7e-4369-c5b8-972641031576"
      },
      "source": [
        "plt.imshow(X_test[random_image])"
      ],
      "execution_count": 63,
      "outputs": [
        {
          "output_type": "execute_result",
          "data": {
            "text/plain": [
              "<matplotlib.image.AxesImage at 0x7fe55dab7828>"
            ]
          },
          "metadata": {
            "tags": []
          },
          "execution_count": 63
        },
        {
          "output_type": "display_data",
          "data": {
            "image/png": "[encoded data removed]",
            "text/plain": [
              "<Figure size 432x288 with 1 Axes>"
            ]
          },
          "metadata": {
            "tags": []
          }
        }
      ]
    },
    {
      "cell_type": "code",
      "metadata": {
        "id": "_zpaptdWJnlH",
        "colab_type": "code",
        "colab": {
          "base_uri": "https://localhost:8080/",
          "height": 34
        },
        "outputId": "695feae0-987d-4721-ba03-2828f44a9b4c"
      },
      "source": [
        "class_names[np.argmax(predictions[0])]"
      ],
      "execution_count": 64,
      "outputs": [
        {
          "output_type": "execute_result",
          "data": {
            "text/plain": [
              "0"
            ]
          },
          "metadata": {
            "tags": []
          },
          "execution_count": 64
        }
      ]
    },
    {
      "cell_type": "markdown",
      "metadata": {
        "id": "F3qeenaFJtpF",
        "colab_type": "text"
      },
      "source": [
        "**Paso 8:** Enviar una petición POST a un modelo especifíco"
      ]
    },
    {
      "cell_type": "code",
      "metadata": {
        "id": "NGrcuENbKF66",
        "colab_type": "code",
        "colab": {}
      },
      "source": [
        "specific_json_response = requests.post(url =\"http://localhost:8000/v1/models/cifar10/versions/1:predict\", data=data, headers=headers)"
      ],
      "execution_count": 0,
      "outputs": []
    },
    {
      "cell_type": "code",
      "metadata": {
        "id": "O8zST3IyKXQi",
        "colab_type": "code",
        "colab": {
          "base_uri": "https://localhost:8080/",
          "height": 34
        },
        "outputId": "df7d4a21-3709-42ab-96a4-c96588a1d26d"
      },
      "source": [
        "specific_json_response"
      ],
      "execution_count": 60,
      "outputs": [
        {
          "output_type": "execute_result",
          "data": {
            "text/plain": [
              "<Response [200]>"
            ]
          },
          "metadata": {
            "tags": []
          },
          "execution_count": 60
        }
      ]
    }
  ]
}