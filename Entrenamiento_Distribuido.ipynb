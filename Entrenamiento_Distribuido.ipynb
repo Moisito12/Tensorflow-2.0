{
  "nbformat": 4,
  "nbformat_minor": 0,
  "metadata": {
    "colab": {
      "name": "Entrenamiento Distribuido.ipynb",
      "provenance": [],
      "collapsed_sections": [],
      "authorship_tag": "ABX9TyPKN+08H37sj/6yA7g7ZQxa",
      "include_colab_link": true
    },
    "kernelspec": {
      "name": "python3",
      "display_name": "Python 3"
    },
    "accelerator": "GPU"
  },
  "cells": [
    {
      "cell_type": "markdown",
      "metadata": {
        "id": "view-in-github",
        "colab_type": "text"
      },
      "source": [
        "<a href=\"https://colab.research.google.com/github/Moisito12/Tensorflow-2.0/blob/master/Entrenamiento_Distribuido.ipynb\" target=\"_parent\"><img src=\"https://colab.research.google.com/assets/colab-badge.svg\" alt=\"Open In Colab\"/></a>"
      ]
    },
    {
      "cell_type": "markdown",
      "metadata": {
        "id": "b6q2wIKpZaFQ",
        "colab_type": "text"
      },
      "source": [
        "**Paso 1:** Instalar las dependencias del proyecto"
      ]
    },
    {
      "cell_type": "code",
      "metadata": {
        "id": "SyeFCRdFYx0P",
        "colab_type": "code",
        "colab": {
          "base_uri": "https://localhost:8080/",
          "height": 627
        },
        "outputId": "e9de1f60-4638-4f8b-c205-38c347a19a7b"
      },
      "source": [
        "!pip install tensorflow-gpu==2.0.0"
      ],
      "execution_count": 1,
      "outputs": [
        {
          "output_type": "stream",
          "text": [
            "Requirement already satisfied: tensorflow-gpu==2.0.0 in /usr/local/lib/python3.6/dist-packages (2.0.0)\n",
            "Requirement already satisfied: termcolor>=1.1.0 in /usr/local/lib/python3.6/dist-packages (from tensorflow-gpu==2.0.0) (1.1.0)\n",
            "Requirement already satisfied: keras-applications>=1.0.8 in /usr/local/lib/python3.6/dist-packages (from tensorflow-gpu==2.0.0) (1.0.8)\n",
            "Requirement already satisfied: opt-einsum>=2.3.2 in /usr/local/lib/python3.6/dist-packages (from tensorflow-gpu==2.0.0) (3.1.0)\n",
            "Requirement already satisfied: tensorflow-estimator<2.1.0,>=2.0.0 in /usr/local/lib/python3.6/dist-packages (from tensorflow-gpu==2.0.0) (2.0.1)\n",
            "Requirement already satisfied: numpy<2.0,>=1.16.0 in /usr/local/lib/python3.6/dist-packages (from tensorflow-gpu==2.0.0) (1.17.5)\n",
            "Requirement already satisfied: google-pasta>=0.1.6 in /usr/local/lib/python3.6/dist-packages (from tensorflow-gpu==2.0.0) (0.1.8)\n",
            "Requirement already satisfied: grpcio>=1.8.6 in /usr/local/lib/python3.6/dist-packages (from tensorflow-gpu==2.0.0) (1.15.0)\n",
            "Requirement already satisfied: gast==0.2.2 in /usr/local/lib/python3.6/dist-packages (from tensorflow-gpu==2.0.0) (0.2.2)\n",
            "Requirement already satisfied: astor>=0.6.0 in /usr/local/lib/python3.6/dist-packages (from tensorflow-gpu==2.0.0) (0.8.1)\n",
            "Requirement already satisfied: wheel>=0.26 in /usr/local/lib/python3.6/dist-packages (from tensorflow-gpu==2.0.0) (0.33.6)\n",
            "Requirement already satisfied: keras-preprocessing>=1.0.5 in /usr/local/lib/python3.6/dist-packages (from tensorflow-gpu==2.0.0) (1.1.0)\n",
            "Requirement already satisfied: six>=1.10.0 in /usr/local/lib/python3.6/dist-packages (from tensorflow-gpu==2.0.0) (1.12.0)\n",
            "Requirement already satisfied: wrapt>=1.11.1 in /usr/local/lib/python3.6/dist-packages (from tensorflow-gpu==2.0.0) (1.11.2)\n",
            "Requirement already satisfied: absl-py>=0.7.0 in /usr/local/lib/python3.6/dist-packages (from tensorflow-gpu==2.0.0) (0.9.0)\n",
            "Requirement already satisfied: protobuf>=3.6.1 in /usr/local/lib/python3.6/dist-packages (from tensorflow-gpu==2.0.0) (3.10.0)\n",
            "Requirement already satisfied: tensorboard<2.1.0,>=2.0.0 in /usr/local/lib/python3.6/dist-packages (from tensorflow-gpu==2.0.0) (2.0.2)\n",
            "Requirement already satisfied: h5py in /usr/local/lib/python3.6/dist-packages (from keras-applications>=1.0.8->tensorflow-gpu==2.0.0) (2.8.0)\n",
            "Requirement already satisfied: setuptools in /usr/local/lib/python3.6/dist-packages (from protobuf>=3.6.1->tensorflow-gpu==2.0.0) (42.0.2)\n",
            "Requirement already satisfied: markdown>=2.6.8 in /usr/local/lib/python3.6/dist-packages (from tensorboard<2.1.0,>=2.0.0->tensorflow-gpu==2.0.0) (3.1.1)\n",
            "Requirement already satisfied: google-auth-oauthlib<0.5,>=0.4.1 in /usr/local/lib/python3.6/dist-packages (from tensorboard<2.1.0,>=2.0.0->tensorflow-gpu==2.0.0) (0.4.1)\n",
            "Requirement already satisfied: requests<3,>=2.21.0 in /usr/local/lib/python3.6/dist-packages (from tensorboard<2.1.0,>=2.0.0->tensorflow-gpu==2.0.0) (2.21.0)\n",
            "Requirement already satisfied: werkzeug>=0.11.15 in /usr/local/lib/python3.6/dist-packages (from tensorboard<2.1.0,>=2.0.0->tensorflow-gpu==2.0.0) (0.16.0)\n",
            "Requirement already satisfied: google-auth<2,>=1.6.3 in /usr/local/lib/python3.6/dist-packages (from tensorboard<2.1.0,>=2.0.0->tensorflow-gpu==2.0.0) (1.11.0)\n",
            "Requirement already satisfied: requests-oauthlib>=0.7.0 in /usr/local/lib/python3.6/dist-packages (from google-auth-oauthlib<0.5,>=0.4.1->tensorboard<2.1.0,>=2.0.0->tensorflow-gpu==2.0.0) (1.3.0)\n",
            "Requirement already satisfied: chardet<3.1.0,>=3.0.2 in /usr/local/lib/python3.6/dist-packages (from requests<3,>=2.21.0->tensorboard<2.1.0,>=2.0.0->tensorflow-gpu==2.0.0) (3.0.4)\n",
            "Requirement already satisfied: certifi>=2017.4.17 in /usr/local/lib/python3.6/dist-packages (from requests<3,>=2.21.0->tensorboard<2.1.0,>=2.0.0->tensorflow-gpu==2.0.0) (2019.11.28)\n",
            "Requirement already satisfied: idna<2.9,>=2.5 in /usr/local/lib/python3.6/dist-packages (from requests<3,>=2.21.0->tensorboard<2.1.0,>=2.0.0->tensorflow-gpu==2.0.0) (2.8)\n",
            "Requirement already satisfied: urllib3<1.25,>=1.21.1 in /usr/local/lib/python3.6/dist-packages (from requests<3,>=2.21.0->tensorboard<2.1.0,>=2.0.0->tensorflow-gpu==2.0.0) (1.24.3)\n",
            "Requirement already satisfied: pyasn1-modules>=0.2.1 in /usr/local/lib/python3.6/dist-packages (from google-auth<2,>=1.6.3->tensorboard<2.1.0,>=2.0.0->tensorflow-gpu==2.0.0) (0.2.7)\n",
            "Requirement already satisfied: cachetools<5.0,>=2.0.0 in /usr/local/lib/python3.6/dist-packages (from google-auth<2,>=1.6.3->tensorboard<2.1.0,>=2.0.0->tensorflow-gpu==2.0.0) (4.0.0)\n",
            "Requirement already satisfied: rsa<4.1,>=3.1.4 in /usr/local/lib/python3.6/dist-packages (from google-auth<2,>=1.6.3->tensorboard<2.1.0,>=2.0.0->tensorflow-gpu==2.0.0) (4.0)\n",
            "Requirement already satisfied: oauthlib>=3.0.0 in /usr/local/lib/python3.6/dist-packages (from requests-oauthlib>=0.7.0->google-auth-oauthlib<0.5,>=0.4.1->tensorboard<2.1.0,>=2.0.0->tensorflow-gpu==2.0.0) (3.1.0)\n",
            "Requirement already satisfied: pyasn1<0.5.0,>=0.4.6 in /usr/local/lib/python3.6/dist-packages (from pyasn1-modules>=0.2.1->google-auth<2,>=1.6.3->tensorboard<2.1.0,>=2.0.0->tensorflow-gpu==2.0.0) (0.4.8)\n"
          ],
          "name": "stdout"
        }
      ]
    },
    {
      "cell_type": "markdown",
      "metadata": {
        "id": "hmc2kUiuZ5fV",
        "colab_type": "text"
      },
      "source": [
        "**Paso 2:** Importar las dependencias del proyecto"
      ]
    },
    {
      "cell_type": "code",
      "metadata": {
        "id": "a_6vL_BLZ_qs",
        "colab_type": "code",
        "colab": {
          "base_uri": "https://localhost:8080/",
          "height": 34
        },
        "outputId": "594b5b45-355a-4f16-b46e-5da4c47c26bb"
      },
      "source": [
        "import time\n",
        "import tensorflow as tf\n",
        "import numpy as np\n",
        "\n",
        "tf.__version__"
      ],
      "execution_count": 2,
      "outputs": [
        {
          "output_type": "execute_result",
          "data": {
            "text/plain": [
              "'2.0.0'"
            ]
          },
          "metadata": {
            "tags": []
          },
          "execution_count": 2
        }
      ]
    },
    {
      "cell_type": "markdown",
      "metadata": {
        "id": "M6P7SqtkaNx4",
        "colab_type": "text"
      },
      "source": [
        "**Paso 3:** Pre procesado del dataset"
      ]
    },
    {
      "cell_type": "markdown",
      "metadata": {
        "id": "6V_6DL_BaR5o",
        "colab_type": "text"
      },
      "source": [
        "**Cargar el MNIST**"
      ]
    },
    {
      "cell_type": "code",
      "metadata": {
        "id": "OqAwrhCUaT1Q",
        "colab_type": "code",
        "colab": {
          "base_uri": "https://localhost:8080/",
          "height": 52
        },
        "outputId": "e4a5cd34-8c9f-4ffa-9858-efa854766575"
      },
      "source": [
        "(X_train, y_train), (X_test, y_test) = tf.keras.datasets.mnist.load_data()"
      ],
      "execution_count": 3,
      "outputs": [
        {
          "output_type": "stream",
          "text": [
            "Downloading data from https://storage.googleapis.com/tensorflow/tf-keras-datasets/mnist.npz\n",
            "11493376/11490434 [==============================] - 0s 0us/step\n"
          ],
          "name": "stdout"
        }
      ]
    },
    {
      "cell_type": "markdown",
      "metadata": {
        "id": "mFksCJYuaj65",
        "colab_type": "text"
      },
      "source": [
        "**Normalización de las imágenes**"
      ]
    },
    {
      "cell_type": "code",
      "metadata": {
        "id": "CL-bQ1MbamXl",
        "colab_type": "code",
        "colab": {}
      },
      "source": [
        "X_train = X_train / 255.0\n",
        "X_test = X_test / 255.0"
      ],
      "execution_count": 0,
      "outputs": []
    },
    {
      "cell_type": "code",
      "metadata": {
        "id": "c52EkSaZayNm",
        "colab_type": "code",
        "colab": {
          "base_uri": "https://localhost:8080/",
          "height": 34
        },
        "outputId": "98610259-ea65-4a5c-ec83-6a094eee9911"
      },
      "source": [
        "X_train.shape"
      ],
      "execution_count": 5,
      "outputs": [
        {
          "output_type": "execute_result",
          "data": {
            "text/plain": [
              "(60000, 28, 28)"
            ]
          },
          "metadata": {
            "tags": []
          },
          "execution_count": 5
        }
      ]
    },
    {
      "cell_type": "markdown",
      "metadata": {
        "id": "OPVFa_Lza2o3",
        "colab_type": "text"
      },
      "source": [
        "**Redimensionar el dataset**"
      ]
    },
    {
      "cell_type": "code",
      "metadata": {
        "id": "P7agm8QOa5QE",
        "colab_type": "code",
        "colab": {}
      },
      "source": [
        "X_train = X_train.reshape(-1, 28*28)\n",
        "X_test = X_test.reshape(-1, 28*28)"
      ],
      "execution_count": 0,
      "outputs": []
    },
    {
      "cell_type": "code",
      "metadata": {
        "id": "sJd3curkbG9W",
        "colab_type": "code",
        "colab": {
          "base_uri": "https://localhost:8080/",
          "height": 34
        },
        "outputId": "76ea90fb-6d0f-49d9-d845-af801081842c"
      },
      "source": [
        "X_train.shape"
      ],
      "execution_count": 7,
      "outputs": [
        {
          "output_type": "execute_result",
          "data": {
            "text/plain": [
              "(60000, 784)"
            ]
          },
          "metadata": {
            "tags": []
          },
          "execution_count": 7
        }
      ]
    },
    {
      "cell_type": "markdown",
      "metadata": {
        "id": "4F6U56oObMN4",
        "colab_type": "text"
      },
      "source": [
        "**Paso 4:** Entrenamiento distribuido"
      ]
    },
    {
      "cell_type": "markdown",
      "metadata": {
        "id": "c28z1_d3bQ7-",
        "colab_type": "text"
      },
      "source": [
        "**Definir el modelo** (No distribuido)"
      ]
    },
    {
      "cell_type": "code",
      "metadata": {
        "id": "7tEYNk_fbWjz",
        "colab_type": "code",
        "colab": {}
      },
      "source": [
        "model_normal = tf.keras.models.Sequential()"
      ],
      "execution_count": 0,
      "outputs": []
    },
    {
      "cell_type": "code",
      "metadata": {
        "id": "OvVjbGFHbfhK",
        "colab_type": "code",
        "colab": {}
      },
      "source": [
        "model_normal.add(tf.keras.layers.Dense(units=128, activation='relu', input_shape=(784, )))"
      ],
      "execution_count": 0,
      "outputs": []
    },
    {
      "cell_type": "code",
      "metadata": {
        "id": "BaGDZsXUb4EK",
        "colab_type": "code",
        "colab": {}
      },
      "source": [
        "model_normal.add(tf.keras.layers.Dropout(rate=0.2))"
      ],
      "execution_count": 0,
      "outputs": []
    },
    {
      "cell_type": "code",
      "metadata": {
        "id": "1pL-HTRwcGwg",
        "colab_type": "code",
        "colab": {}
      },
      "source": [
        "model_normal.add(tf.keras.layers.Dense(units=10, activation='softmax'))"
      ],
      "execution_count": 0,
      "outputs": []
    },
    {
      "cell_type": "markdown",
      "metadata": {
        "id": "nfpN9vnGcRYv",
        "colab_type": "text"
      },
      "source": [
        "**Realizar la compilación del modelo**"
      ]
    },
    {
      "cell_type": "code",
      "metadata": {
        "id": "3-SIS04VcVPX",
        "colab_type": "code",
        "colab": {}
      },
      "source": [
        "model_normal.compile(optimizer='adam', loss='sparse_categorical_crossentropy', metrics=['sparse_categorical_accuracy'])"
      ],
      "execution_count": 0,
      "outputs": []
    },
    {
      "cell_type": "markdown",
      "metadata": {
        "id": "9MK3_DvJclE3",
        "colab_type": "text"
      },
      "source": [
        "**Definir una imagen distribuida**"
      ]
    },
    {
      "cell_type": "code",
      "metadata": {
        "id": "Myvj5-HGco52",
        "colab_type": "code",
        "colab": {}
      },
      "source": [
        "distribute = tf.distribute.MirroredStrategy()"
      ],
      "execution_count": 0,
      "outputs": []
    },
    {
      "cell_type": "markdown",
      "metadata": {
        "id": "6avsPyfKcwXQ",
        "colab_type": "text"
      },
      "source": [
        "**Definir un modelo distribuido**"
      ]
    },
    {
      "cell_type": "code",
      "metadata": {
        "id": "OYw4NfYfcz9e",
        "colab_type": "code",
        "colab": {
          "base_uri": "https://localhost:8080/",
          "height": 52
        },
        "outputId": "299abda5-53bb-4c4d-972a-b257869b0b34"
      },
      "source": [
        "with distribute.scope():\n",
        "  model_distributed = tf.keras.models.Sequential()\n",
        "  model_distributed.add(tf.keras.layers.Dense(units=128, activation='relu', input_shape=(784, )))\n",
        "  model_distributed.add(tf.keras.layers.Dropout(rate=0.2))\n",
        "  model_distributed.add(tf.keras.layers.Dense(units=10,activation='softmax'))\n",
        "  model_distributed.compile(optimizer='adam', loss='sparse_categorical_crossentropy', metrics=['sparse_categorical_accuracy'])"
      ],
      "execution_count": 19,
      "outputs": [
        {
          "output_type": "stream",
          "text": [
            "INFO:tensorflow:Reduce to /job:localhost/replica:0/task:0/device:CPU:0 then broadcast to ('/job:localhost/replica:0/task:0/device:CPU:0',).\n",
            "INFO:tensorflow:Reduce to /job:localhost/replica:0/task:0/device:CPU:0 then broadcast to ('/job:localhost/replica:0/task:0/device:CPU:0',).\n"
          ],
          "name": "stdout"
        }
      ]
    },
    {
      "cell_type": "markdown",
      "metadata": {
        "id": "q8Z9T8yBeJrE",
        "colab_type": "text"
      },
      "source": [
        "**Comparar la velocidad de entrenamiento normal VS distribuida**"
      ]
    },
    {
      "cell_type": "code",
      "metadata": {
        "id": "la5TbvKxeTEi",
        "colab_type": "code",
        "colab": {
          "base_uri": "https://localhost:8080/",
          "height": 469
        },
        "outputId": "88447de1-6c47-4f2e-8599-184c700d0878"
      },
      "source": [
        "start_time = time.time()\n",
        "model_distributed.fit(X_train, y_train, epochs=10, batch_size=25)\n",
        "print(\"El entrenamiento distribuido ha tardado {}\".format(time.time() - start_time))"
      ],
      "execution_count": 20,
      "outputs": [
        {
          "output_type": "stream",
          "text": [
            "Train on 60000 samples\n",
            "Epoch 1/10\n",
            "INFO:tensorflow:Reduce to /job:localhost/replica:0/task:0/device:CPU:0 then broadcast to ('/job:localhost/replica:0/task:0/device:CPU:0',).\n",
            "INFO:tensorflow:Reduce to /job:localhost/replica:0/task:0/device:CPU:0 then broadcast to ('/job:localhost/replica:0/task:0/device:CPU:0',).\n",
            "INFO:tensorflow:Reduce to /job:localhost/replica:0/task:0/device:CPU:0 then broadcast to ('/job:localhost/replica:0/task:0/device:CPU:0',).\n",
            "INFO:tensorflow:Reduce to /job:localhost/replica:0/task:0/device:CPU:0 then broadcast to ('/job:localhost/replica:0/task:0/device:CPU:0',).\n",
            "60000/60000 [==============================] - 9s 147us/sample - loss: 0.2932 - sparse_categorical_accuracy: 0.9144\n",
            "Epoch 2/10\n",
            "60000/60000 [==============================] - 6s 104us/sample - loss: 0.1416 - sparse_categorical_accuracy: 0.9579\n",
            "Epoch 3/10\n",
            "60000/60000 [==============================] - 6s 101us/sample - loss: 0.1061 - sparse_categorical_accuracy: 0.9682\n",
            "Epoch 4/10\n",
            "60000/60000 [==============================] - 6s 102us/sample - loss: 0.0879 - sparse_categorical_accuracy: 0.9724\n",
            "Epoch 5/10\n",
            "60000/60000 [==============================] - 6s 102us/sample - loss: 0.0751 - sparse_categorical_accuracy: 0.9772\n",
            "Epoch 6/10\n",
            "60000/60000 [==============================] - 6s 103us/sample - loss: 0.0676 - sparse_categorical_accuracy: 0.9783\n",
            "Epoch 7/10\n",
            "60000/60000 [==============================] - 6s 104us/sample - loss: 0.0610 - sparse_categorical_accuracy: 0.9804\n",
            "Epoch 8/10\n",
            "60000/60000 [==============================] - 6s 106us/sample - loss: 0.0531 - sparse_categorical_accuracy: 0.9825\n",
            "Epoch 9/10\n",
            "60000/60000 [==============================] - 6s 105us/sample - loss: 0.0504 - sparse_categorical_accuracy: 0.9833\n",
            "Epoch 10/10\n",
            "60000/60000 [==============================] - 6s 103us/sample - loss: 0.0443 - sparse_categorical_accuracy: 0.9850\n",
            "El entrenamiento distribuido ha tardado 64.98270058631897\n"
          ],
          "name": "stdout"
        }
      ]
    },
    {
      "cell_type": "code",
      "metadata": {
        "id": "rzXbB40SfCnN",
        "colab_type": "code",
        "colab": {
          "base_uri": "https://localhost:8080/",
          "height": 399
        },
        "outputId": "1a612b32-a35f-42e2-bcac-aaf31a1f7188"
      },
      "source": [
        "start_time = time.time()\n",
        "model_normal.fit(X_train, y_train, epochs=10, batch_size=25)\n",
        "print(\"El entrenamiento normal ha tardado {}\".format(time.time() - start_time))"
      ],
      "execution_count": 21,
      "outputs": [
        {
          "output_type": "stream",
          "text": [
            "Train on 60000 samples\n",
            "Epoch 1/10\n",
            "60000/60000 [==============================] - 6s 97us/sample - loss: 0.2878 - sparse_categorical_accuracy: 0.9165\n",
            "Epoch 2/10\n",
            "60000/60000 [==============================] - 6s 93us/sample - loss: 0.1410 - sparse_categorical_accuracy: 0.9580\n",
            "Epoch 3/10\n",
            "60000/60000 [==============================] - 6s 92us/sample - loss: 0.1084 - sparse_categorical_accuracy: 0.9669\n",
            "Epoch 4/10\n",
            "60000/60000 [==============================] - 6s 94us/sample - loss: 0.0902 - sparse_categorical_accuracy: 0.9722\n",
            "Epoch 5/10\n",
            "60000/60000 [==============================] - 6s 101us/sample - loss: 0.0753 - sparse_categorical_accuracy: 0.9758\n",
            "Epoch 6/10\n",
            "60000/60000 [==============================] - 6s 94us/sample - loss: 0.0654 - sparse_categorical_accuracy: 0.9797\n",
            "Epoch 7/10\n",
            "60000/60000 [==============================] - 6s 93us/sample - loss: 0.0591 - sparse_categorical_accuracy: 0.9807\n",
            "Epoch 8/10\n",
            "60000/60000 [==============================] - 5s 89us/sample - loss: 0.0540 - sparse_categorical_accuracy: 0.9823\n",
            "Epoch 9/10\n",
            "60000/60000 [==============================] - 6s 94us/sample - loss: 0.0515 - sparse_categorical_accuracy: 0.9833\n",
            "Epoch 10/10\n",
            "60000/60000 [==============================] - 6s 94us/sample - loss: 0.0464 - sparse_categorical_accuracy: 0.9846\n",
            "El entrenamiento normal ha tardado 56.538641691207886\n"
          ],
          "name": "stdout"
        }
      ]
    }
  ]
}