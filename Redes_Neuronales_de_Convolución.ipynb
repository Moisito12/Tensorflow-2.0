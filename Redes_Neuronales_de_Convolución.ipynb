{
  "nbformat": 4,
  "nbformat_minor": 0,
  "metadata": {
    "colab": {
      "name": "Redes Neuronales de Convolución.ipynb",
      "provenance": [],
      "collapsed_sections": [],
      "include_colab_link": true
    },
    "kernelspec": {
      "name": "python3",
      "display_name": "Python 3"
    }
  },
  "cells": [
    {
      "cell_type": "markdown",
      "metadata": {
        "id": "view-in-github",
        "colab_type": "text"
      },
      "source": [
        "<a href=\"https://colab.research.google.com/github/Moisito12/Tensorflow-2.0/blob/master/Redes_Neuronales_de_Convoluci%C3%B3n.ipynb\" target=\"_parent\"><img src=\"https://colab.research.google.com/assets/colab-badge.svg\" alt=\"Open In Colab\"/></a>"
      ]
    },
    {
      "cell_type": "markdown",
      "metadata": {
        "id": "X74B3P9Mt13L",
        "colab_type": "text"
      },
      "source": [
        "# Paso 1: Instalar las dependencias y configuración del entorno"
      ]
    },
    {
      "cell_type": "code",
      "metadata": {
        "id": "qlIGAb4Ht-j5",
        "colab_type": "code",
        "colab": {
          "base_uri": "https://localhost:8080/",
          "height": 496
        },
        "outputId": "b31b67ee-33bd-44f2-94ef-5574ae161bd4"
      },
      "source": [
        "!pip install tensorflow-gpu==2.0.0-alpha0"
      ],
      "execution_count": 2,
      "outputs": [
        {
          "output_type": "stream",
          "text": [
            "Collecting tensorflow-gpu==2.0.0-alpha0\n",
            "\u001b[?25l  Downloading https://files.pythonhosted.org/packages/1a/66/32cffad095253219d53f6b6c2a436637bbe45ac4e7be0244557210dc3918/tensorflow_gpu-2.0.0a0-cp36-cp36m-manylinux1_x86_64.whl (332.1MB)\n",
            "\u001b[K     |████████████████████████████████| 332.1MB 47kB/s \n",
            "\u001b[?25hRequirement already satisfied: gast>=0.2.0 in /usr/local/lib/python3.6/dist-packages (from tensorflow-gpu==2.0.0-alpha0) (0.2.2)\n",
            "Requirement already satisfied: six>=1.10.0 in /usr/local/lib/python3.6/dist-packages (from tensorflow-gpu==2.0.0-alpha0) (1.12.0)\n",
            "Requirement already satisfied: protobuf>=3.6.1 in /usr/local/lib/python3.6/dist-packages (from tensorflow-gpu==2.0.0-alpha0) (3.10.0)\n",
            "Requirement already satisfied: termcolor>=1.1.0 in /usr/local/lib/python3.6/dist-packages (from tensorflow-gpu==2.0.0-alpha0) (1.1.0)\n",
            "Requirement already satisfied: wheel>=0.26 in /usr/local/lib/python3.6/dist-packages (from tensorflow-gpu==2.0.0-alpha0) (0.33.6)\n",
            "Requirement already satisfied: keras-preprocessing>=1.0.5 in /usr/local/lib/python3.6/dist-packages (from tensorflow-gpu==2.0.0-alpha0) (1.1.0)\n",
            "Requirement already satisfied: grpcio>=1.8.6 in /usr/local/lib/python3.6/dist-packages (from tensorflow-gpu==2.0.0-alpha0) (1.15.0)\n",
            "Requirement already satisfied: astor>=0.6.0 in /usr/local/lib/python3.6/dist-packages (from tensorflow-gpu==2.0.0-alpha0) (0.8.0)\n",
            "Collecting tf-estimator-nightly<1.14.0.dev2019030116,>=1.14.0.dev2019030115\n",
            "\u001b[?25l  Downloading https://files.pythonhosted.org/packages/13/82/f16063b4eed210dc2ab057930ac1da4fbe1e91b7b051a6c8370b401e6ae7/tf_estimator_nightly-1.14.0.dev2019030115-py2.py3-none-any.whl (411kB)\n",
            "\u001b[K     |████████████████████████████████| 419kB 56.5MB/s \n",
            "\u001b[?25hRequirement already satisfied: absl-py>=0.7.0 in /usr/local/lib/python3.6/dist-packages (from tensorflow-gpu==2.0.0-alpha0) (0.8.1)\n",
            "Collecting tb-nightly<1.14.0a20190302,>=1.14.0a20190301\n",
            "\u001b[?25l  Downloading https://files.pythonhosted.org/packages/a9/51/aa1d756644bf4624c03844115e4ac4058eff77acd786b26315f051a4b195/tb_nightly-1.14.0a20190301-py3-none-any.whl (3.0MB)\n",
            "\u001b[K     |████████████████████████████████| 3.0MB 50.9MB/s \n",
            "\u001b[?25hRequirement already satisfied: numpy<2.0,>=1.14.5 in /usr/local/lib/python3.6/dist-packages (from tensorflow-gpu==2.0.0-alpha0) (1.17.3)\n",
            "Requirement already satisfied: keras-applications>=1.0.6 in /usr/local/lib/python3.6/dist-packages (from tensorflow-gpu==2.0.0-alpha0) (1.0.8)\n",
            "Requirement already satisfied: google-pasta>=0.1.2 in /usr/local/lib/python3.6/dist-packages (from tensorflow-gpu==2.0.0-alpha0) (0.1.7)\n",
            "Requirement already satisfied: setuptools in /usr/local/lib/python3.6/dist-packages (from protobuf>=3.6.1->tensorflow-gpu==2.0.0-alpha0) (41.4.0)\n",
            "Requirement already satisfied: markdown>=2.6.8 in /usr/local/lib/python3.6/dist-packages (from tb-nightly<1.14.0a20190302,>=1.14.0a20190301->tensorflow-gpu==2.0.0-alpha0) (3.1.1)\n",
            "Requirement already satisfied: werkzeug>=0.11.15 in /usr/local/lib/python3.6/dist-packages (from tb-nightly<1.14.0a20190302,>=1.14.0a20190301->tensorflow-gpu==2.0.0-alpha0) (0.16.0)\n",
            "Requirement already satisfied: h5py in /usr/local/lib/python3.6/dist-packages (from keras-applications>=1.0.6->tensorflow-gpu==2.0.0-alpha0) (2.8.0)\n",
            "Installing collected packages: tf-estimator-nightly, tb-nightly, tensorflow-gpu\n",
            "Successfully installed tb-nightly-1.14.0a20190301 tensorflow-gpu-2.0.0a0 tf-estimator-nightly-1.14.0.dev2019030115\n"
          ],
          "name": "stdout"
        }
      ]
    },
    {
      "cell_type": "markdown",
      "metadata": {
        "id": "RzEzQanxusHM",
        "colab_type": "text"
      },
      "source": [
        "# Paso 2: Importar las librerias necesarias"
      ]
    },
    {
      "cell_type": "code",
      "metadata": {
        "id": "3eBoYeWhuw94",
        "colab_type": "code",
        "colab": {
          "base_uri": "https://localhost:8080/",
          "height": 34
        },
        "outputId": "61d3d59a-ec1c-404f-f7e7-6f1f891ebe62"
      },
      "source": [
        "import tensorflow as tf\n",
        "import matplotlib.pyplot as plt\n",
        "from tensorflow.keras.datasets import cifar10\n",
        "%matplotlib inline\n",
        "tf.__version__"
      ],
      "execution_count": 3,
      "outputs": [
        {
          "output_type": "execute_result",
          "data": {
            "text/plain": [
              "'2.0.0-alpha0'"
            ]
          },
          "metadata": {
            "tags": []
          },
          "execution_count": 3
        }
      ]
    },
    {
      "cell_type": "markdown",
      "metadata": {
        "id": "TOhFFrOavYFA",
        "colab_type": "text"
      },
      "source": [
        "# Paso 3: Pre procesado de datos"
      ]
    },
    {
      "cell_type": "markdown",
      "metadata": {
        "id": "VK2lBVMfviWK",
        "colab_type": "text"
      },
      "source": [
        "**Cargar el dataset Cifar10**"
      ]
    },
    {
      "cell_type": "code",
      "metadata": {
        "id": "wNLFpLN3zSrY",
        "colab_type": "code",
        "colab": {}
      },
      "source": [
        "# Configurar el nombre de las variables del dataset\n",
        "class_names = ['avion','coche','pájaro','gato','ciervo','perro','rana','caballo','barco','camión']"
      ],
      "execution_count": 0,
      "outputs": []
    },
    {
      "cell_type": "code",
      "metadata": {
        "id": "e5rmeCzrzomi",
        "colab_type": "code",
        "colab": {
          "base_uri": "https://localhost:8080/",
          "height": 51
        },
        "outputId": "470cfb8e-3f21-471c-e8cd-3ac40066a80f"
      },
      "source": [
        "# Cargar el dataset\n",
        "(X_train, y_train), (X_test,y_test) = cifar10.load_data()"
      ],
      "execution_count": 5,
      "outputs": [
        {
          "output_type": "stream",
          "text": [
            "Downloading data from https://www.cs.toronto.edu/~kriz/cifar-10-python.tar.gz\n",
            "170500096/170498071 [==============================] - 4s 0us/step\n"
          ],
          "name": "stdout"
        }
      ]
    },
    {
      "cell_type": "code",
      "metadata": {
        "id": "skgNiNeE1E6P",
        "colab_type": "code",
        "colab": {}
      },
      "source": [
        "X_train = X_train / 255.0"
      ],
      "execution_count": 0,
      "outputs": []
    },
    {
      "cell_type": "code",
      "metadata": {
        "id": "kr8RxKBC1Ls4",
        "colab_type": "code",
        "colab": {
          "base_uri": "https://localhost:8080/",
          "height": 34
        },
        "outputId": "908dbdc4-3d41-4798-d812-b071b4e8fc3e"
      },
      "source": [
        "X_train.shape"
      ],
      "execution_count": 7,
      "outputs": [
        {
          "output_type": "execute_result",
          "data": {
            "text/plain": [
              "(50000, 32, 32, 3)"
            ]
          },
          "metadata": {
            "tags": []
          },
          "execution_count": 7
        }
      ]
    },
    {
      "cell_type": "code",
      "metadata": {
        "id": "0OTUdrW71Rie",
        "colab_type": "code",
        "colab": {}
      },
      "source": [
        "X_test = X_test/255.0"
      ],
      "execution_count": 0,
      "outputs": []
    },
    {
      "cell_type": "code",
      "metadata": {
        "id": "MnZik8bh1VzZ",
        "colab_type": "code",
        "colab": {
          "base_uri": "https://localhost:8080/",
          "height": 283
        },
        "outputId": "1b02f7f8-aa02-4169-a44c-c9a17ec6a38c"
      },
      "source": [
        "plt.imshow(X_test[10])"
      ],
      "execution_count": 12,
      "outputs": [
        {
          "output_type": "execute_result",
          "data": {
            "text/plain": [
              "<matplotlib.image.AxesImage at 0x7f6d88b71cf8>"
            ]
          },
          "metadata": {
            "tags": []
          },
          "execution_count": 12
        },
        {
          "output_type": "display_data",
          "data": {
            "image/png": "[encoded data removed]",
            "text/plain": [
              "<Figure size 432x288 with 1 Axes>"
            ]
          },
          "metadata": {
            "tags": []
          }
        }
      ]
    },
    {
      "cell_type": "code",
      "metadata": {
        "id": "q8dQP4p-1eYB",
        "colab_type": "code",
        "colab": {
          "base_uri": "https://localhost:8080/",
          "height": 34
        },
        "outputId": "03543035-3e1f-4306-de7c-1eec12e8579e"
      },
      "source": [
        "y_test[10]"
      ],
      "execution_count": 13,
      "outputs": [
        {
          "output_type": "execute_result",
          "data": {
            "text/plain": [
              "array([0])"
            ]
          },
          "metadata": {
            "tags": []
          },
          "execution_count": 13
        }
      ]
    },
    {
      "cell_type": "markdown",
      "metadata": {
        "id": "g5xl6Jmf1isT",
        "colab_type": "text"
      },
      "source": [
        "# Paso 4: Construir una red neuronal convolucional"
      ]
    },
    {
      "cell_type": "markdown",
      "metadata": {
        "id": "vTOBxkIt1rBx",
        "colab_type": "text"
      },
      "source": [
        "**Definir el modelo**"
      ]
    },
    {
      "cell_type": "code",
      "metadata": {
        "id": "fI2h6L941uIH",
        "colab_type": "code",
        "colab": {}
      },
      "source": [
        "model = tf.keras.models.Sequential()"
      ],
      "execution_count": 0,
      "outputs": []
    },
    {
      "cell_type": "markdown",
      "metadata": {
        "id": "c291rMz213nC",
        "colab_type": "text"
      },
      "source": [
        "# Añadir la primera capa de convolución\n",
        "Hyper parámetros de la capa de la RNC:\n",
        "\n",
        "Filtros: 32\n",
        "\n",
        "Tamaño del kernel: 3\n",
        "\n",
        "padding: same\n",
        "\n",
        "Función de Activación: relu\n",
        "\n",
        "input_shape: (32, 32, 3)"
      ]
    },
    {
      "cell_type": "code",
      "metadata": {
        "id": "6T_wKTHc18yW",
        "colab_type": "code",
        "colab": {}
      },
      "source": [
        "model.add(tf.keras.layers.Conv2D(filters=32, kernel_size=3, padding=\"same\", activation=\"relu\",input_shape=[32,32,3]))"
      ],
      "execution_count": 0,
      "outputs": []
    },
    {
      "cell_type": "markdown",
      "metadata": {
        "id": "Rd6gMfwc2UxY",
        "colab_type": "text"
      },
      "source": [
        "# Añadir una segunda capa convolucional y la capa de max-pooling\n",
        "Hyper parámetros de la capa de la RNC:\n",
        "\n",
        "Filtros: 32\n",
        "\n",
        "Tamaño del kernel: 3\n",
        "\n",
        "padding: same\n",
        "\n",
        "Función de Activación: relu\n",
        "\n",
        "Hyper parámetros de la capa de MaxPool:\n",
        "\n",
        "pool_size: 2\n",
        "\n",
        "strides: 2\n",
        "\n",
        "padding: valid"
      ]
    },
    {
      "cell_type": "code",
      "metadata": {
        "id": "TP20Cgdr2arL",
        "colab_type": "code",
        "colab": {}
      },
      "source": [
        "model.add(tf.keras.layers.Conv2D(filters=32, kernel_size=3, padding=\"same\", activation=\"relu\"))"
      ],
      "execution_count": 0,
      "outputs": []
    },
    {
      "cell_type": "code",
      "metadata": {
        "id": "sVCIM5Uh2tP7",
        "colab_type": "code",
        "colab": {}
      },
      "source": [
        "model.add(tf.keras.layers.MaxPool2D(pool_size=2,strides=2,padding=\"valid\"))"
      ],
      "execution_count": 0,
      "outputs": []
    },
    {
      "cell_type": "markdown",
      "metadata": {
        "id": "PzB1Lecv26ts",
        "colab_type": "text"
      },
      "source": [
        "# Añadir la tercera capa convolucional\n",
        "Hyper parámetros de la capa de la RNC:\n",
        "\n",
        "Filtros: 64\n",
        "\n",
        "Tamaño del kernel: 3\n",
        "\n",
        "padding: same\n",
        "\n",
        "Función de Activación: relu"
      ]
    },
    {
      "cell_type": "code",
      "metadata": {
        "id": "5biorT8o2-YP",
        "colab_type": "code",
        "colab": {}
      },
      "source": [
        "model.add(tf.keras.layers.Conv2D(filters=64,kernel_size=3,padding=\"same\", activation=\"relu\"))"
      ],
      "execution_count": 0,
      "outputs": []
    },
    {
      "cell_type": "markdown",
      "metadata": {
        "id": "vLleCmSP3VYQ",
        "colab_type": "text"
      },
      "source": [
        "# Añadir la cuarta capa convolucional y la capa de max-pooling\n",
        "Hyper parámetros de la capa de la RNC:\n",
        "\n",
        "Filtros: 64\n",
        "\n",
        "Tamaño del kernel: 3\n",
        "\n",
        "padding: same\n",
        "\n",
        "Función de Activación: relu\n",
        "\n",
        "Hyper parámetros de la capa de la MaxPool:\n",
        "\n",
        "pool_size: 2\n",
        "\n",
        "strides: 2\n",
        "\n",
        "padding: valid"
      ]
    },
    {
      "cell_type": "code",
      "metadata": {
        "id": "Qzng7ATZ3Zq3",
        "colab_type": "code",
        "colab": {}
      },
      "source": [
        "model.add(tf.keras.layers.Conv2D(filters=64, kernel_size=3, padding=\"same\", activation=\"relu\"))"
      ],
      "execution_count": 0,
      "outputs": []
    },
    {
      "cell_type": "code",
      "metadata": {
        "id": "uob40SuU34hH",
        "colab_type": "code",
        "colab": {}
      },
      "source": [
        "model.add(tf.keras.layers.MaxPool2D(pool_size=2,strides=2,padding='valid'))"
      ],
      "execution_count": 0,
      "outputs": []
    },
    {
      "cell_type": "markdown",
      "metadata": {
        "id": "MwFzy4Ur4EJb",
        "colab_type": "text"
      },
      "source": [
        "# Añadir la capa de flattening"
      ]
    },
    {
      "cell_type": "code",
      "metadata": {
        "id": "YBIhJft84Fjw",
        "colab_type": "code",
        "colab": {}
      },
      "source": [
        "model.add(tf.keras.layers.Flatten())"
      ],
      "execution_count": 0,
      "outputs": []
    },
    {
      "cell_type": "markdown",
      "metadata": {
        "id": "0BmciEes4WmL",
        "colab_type": "text"
      },
      "source": [
        "# Añadir la primera capa fully-connected\n",
        "Hyper parámetros de la capa totalmente conectada:\n",
        "\n",
        "units/neurons: 128\n",
        "\n",
        "activation: relu"
      ]
    },
    {
      "cell_type": "code",
      "metadata": {
        "id": "PwR9SAhw4Yxs",
        "colab_type": "code",
        "colab": {}
      },
      "source": [
        "model.add(tf.keras.layers.Dense(units=128,activation=\"relu\"))"
      ],
      "execution_count": 0,
      "outputs": []
    },
    {
      "cell_type": "markdown",
      "metadata": {
        "id": "uY0YQ3_y4jmi",
        "colab_type": "text"
      },
      "source": [
        "# Añadir la capa de salida\n",
        "Hyper parámetros de la capa totalmente conectada:\n",
        "\n",
        "units/neurons: 10 (number of classes)\n",
        "\n",
        "activation: softmax"
      ]
    },
    {
      "cell_type": "code",
      "metadata": {
        "id": "IAzxYy244rhM",
        "colab_type": "code",
        "colab": {}
      },
      "source": [
        "model.add(tf.keras.layers.Dense(units=10,activation=\"softmax\"))"
      ],
      "execution_count": 0,
      "outputs": []
    },
    {
      "cell_type": "code",
      "metadata": {
        "id": "j5jIEupS42Zw",
        "colab_type": "code",
        "colab": {
          "base_uri": "https://localhost:8080/",
          "height": 459
        },
        "outputId": "67ee9c5d-6b38-4d1e-dc2c-9077df76225e"
      },
      "source": [
        "model.summary()"
      ],
      "execution_count": 27,
      "outputs": [
        {
          "output_type": "stream",
          "text": [
            "Model: \"sequential_1\"\n",
            "_________________________________________________________________\n",
            "Layer (type)                 Output Shape              Param #   \n",
            "=================================================================\n",
            "conv2d (Conv2D)              (None, 32, 32, 32)        896       \n",
            "_________________________________________________________________\n",
            "conv2d_1 (Conv2D)            (None, 32, 32, 32)        9248      \n",
            "_________________________________________________________________\n",
            "max_pooling2d (MaxPooling2D) (None, 16, 16, 32)        0         \n",
            "_________________________________________________________________\n",
            "conv2d_2 (Conv2D)            (None, 16, 16, 64)        18496     \n",
            "_________________________________________________________________\n",
            "conv2d_3 (Conv2D)            (None, 16, 16, 64)        36928     \n",
            "_________________________________________________________________\n",
            "max_pooling2d_1 (MaxPooling2 (None, 8, 8, 64)          0         \n",
            "_________________________________________________________________\n",
            "flatten (Flatten)            (None, 4096)              0         \n",
            "_________________________________________________________________\n",
            "dense (Dense)                (None, 128)               524416    \n",
            "_________________________________________________________________\n",
            "dense_1 (Dense)              (None, 10)                1290      \n",
            "=================================================================\n",
            "Total params: 591,274\n",
            "Trainable params: 591,274\n",
            "Non-trainable params: 0\n",
            "_________________________________________________________________\n"
          ],
          "name": "stdout"
        }
      ]
    },
    {
      "cell_type": "markdown",
      "metadata": {
        "id": "pDIX8tOw49ge",
        "colab_type": "text"
      },
      "source": [
        "# Compilar el modelo\n",
        "sparse_categorical_accuracy\n",
        "\n",
        "sparse_categorical_accuracy comprueba si el valor verdadero maximal coincide \n",
        "con el índice maximal del valor de la predicción.\n",
        "\n",
        "https://stackoverflow.com/questions/44477489/keras-difference-between-categorical-accuracy-and-sparse-categorical-accuracy"
      ]
    },
    {
      "cell_type": "code",
      "metadata": {
        "id": "DnzZnyVR5AyW",
        "colab_type": "code",
        "colab": {}
      },
      "source": [
        "model.compile(loss=\"sparse_categorical_crossentropy\",optimizer=\"adam\",metrics=[\"sparse_categorical_accuracy\"])"
      ],
      "execution_count": 0,
      "outputs": []
    },
    {
      "cell_type": "markdown",
      "metadata": {
        "id": "evku3C4l5Q11",
        "colab_type": "text"
      },
      "source": [
        "# Entrenar el modelo"
      ]
    },
    {
      "cell_type": "code",
      "metadata": {
        "id": "PV5cf9Qm5YoP",
        "colab_type": "code",
        "colab": {
          "base_uri": "https://localhost:8080/",
          "height": 374
        },
        "outputId": "ef3b4c59-b8cb-4ac1-857c-2703ce97ae4b"
      },
      "source": [
        "model.fit(X_train, y_train,epochs=10)"
      ],
      "execution_count": 29,
      "outputs": [
        {
          "output_type": "stream",
          "text": [
            "Epoch 1/10\n",
            "50000/50000 [==============================] - 260s 5ms/sample - loss: 1.3740 - sparse_categorical_accuracy: 0.5058\n",
            "Epoch 2/10\n",
            "50000/50000 [==============================] - 269s 5ms/sample - loss: 0.9093 - sparse_categorical_accuracy: 0.6803\n",
            "Epoch 3/10\n",
            "50000/50000 [==============================] - 264s 5ms/sample - loss: 0.7254 - sparse_categorical_accuracy: 0.7471\n",
            "Epoch 4/10\n",
            "50000/50000 [==============================] - 258s 5ms/sample - loss: 0.5992 - sparse_categorical_accuracy: 0.7897\n",
            "Epoch 5/10\n",
            "50000/50000 [==============================] - 259s 5ms/sample - loss: 0.4958 - sparse_categorical_accuracy: 0.8242\n",
            "Epoch 6/10\n",
            "50000/50000 [==============================] - 260s 5ms/sample - loss: 0.3943 - sparse_categorical_accuracy: 0.8608\n",
            "Epoch 7/10\n",
            "50000/50000 [==============================] - 259s 5ms/sample - loss: 0.3118 - sparse_categorical_accuracy: 0.8885\n",
            "Epoch 8/10\n",
            "50000/50000 [==============================] - 273s 5ms/sample - loss: 0.2397 - sparse_categorical_accuracy: 0.9158\n",
            "Epoch 9/10\n",
            "50000/50000 [==============================] - 280s 6ms/sample - loss: 0.1986 - sparse_categorical_accuracy: 0.9290\n",
            "Epoch 10/10\n",
            "50000/50000 [==============================] - 279s 6ms/sample - loss: 0.1610 - sparse_categorical_accuracy: 0.9426\n"
          ],
          "name": "stdout"
        },
        {
          "output_type": "execute_result",
          "data": {
            "text/plain": [
              "<tensorflow.python.keras.callbacks.History at 0x7f6d87a22978>"
            ]
          },
          "metadata": {
            "tags": []
          },
          "execution_count": 29
        }
      ]
    },
    {
      "cell_type": "markdown",
      "metadata": {
        "id": "4Q3oBpgdCtvh",
        "colab_type": "text"
      },
      "source": [
        "# Evaluar el modelo\n"
      ]
    },
    {
      "cell_type": "code",
      "metadata": {
        "id": "fL-Jl4GCCxNN",
        "colab_type": "code",
        "colab": {
          "base_uri": "https://localhost:8080/",
          "height": 34
        },
        "outputId": "7dcf3945-1764-4dc3-801b-3823b8470671"
      },
      "source": [
        "test_loss, test_accuracy = model.evaluate(X_test,y_test)"
      ],
      "execution_count": 30,
      "outputs": [
        {
          "output_type": "stream",
          "text": [
            "10000/10000 [==============================] - 12s 1ms/sample - loss: 1.3381 - sparse_categorical_accuracy: 0.7268\n"
          ],
          "name": "stdout"
        }
      ]
    },
    {
      "cell_type": "code",
      "metadata": {
        "id": "nfBdXsW0D5VS",
        "colab_type": "code",
        "colab": {
          "base_uri": "https://localhost:8080/",
          "height": 34
        },
        "outputId": "a21902ee-8593-48aa-f7b1-ef5315d03ccf"
      },
      "source": [
        "print(\"Test Accuracy: {}\".format(test_accuracy))"
      ],
      "execution_count": 31,
      "outputs": [
        {
          "output_type": "stream",
          "text": [
            "Test Accuracy: 0.7268000245094299\n"
          ],
          "name": "stdout"
        }
      ]
    }
  ]
}